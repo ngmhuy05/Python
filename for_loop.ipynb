{
 "cells": [
  {
   "cell_type": "code",
   "execution_count": null,
   "id": "69686adc",
   "metadata": {},
   "outputs": [
    {
     "name": "stdout",
     "output_type": "stream",
     "text": [
      "1\n",
      "2\n",
      "3\n",
      "4\n",
      "5\n",
      "6\n",
      "7\n",
      "8\n",
      "9\n",
      "10\n"
     ]
    }
   ],
   "source": [
    "## Write a program that prints numbers from 1 to 10.\n",
    "for i in range (1, 11):\n",
    "    print(i)"
   ]
  },
  {
   "cell_type": "code",
   "execution_count": null,
   "id": "3a196f58",
   "metadata": {},
   "outputs": [
    {
     "name": "stdout",
     "output_type": "stream",
     "text": [
      "Tổng các số trong khoản từ 1 đến 34 là: 1740\n"
     ]
    }
   ],
   "source": [
    "## Write a program to calculate the sum of numbers in a range from 1 to n (n is entered from the keyboard).\n",
    "num = int(input(\"Nhập số bất kỳ: \"))\n",
    "total = 0\n",
    "\n",
    "for i in range(1, num + 1):\n",
    "    total += i\n",
    "print(f\"Tổng các số trong khoản từ 1 đến {num} là: {total}\")"
   ]
  },
  {
   "cell_type": "code",
   "execution_count": null,
   "id": "e4b5d2b5",
   "metadata": {},
   "outputs": [
    {
     "name": "stdout",
     "output_type": "stream",
     "text": [
      "Tổng các số chẵn trong khoản từ 1 đến 3 là: 2\n",
      "Tổng các số lẻ trong khoản từ 1 đến 3 là: 4\n"
     ]
    }
   ],
   "source": [
    "## Write a program to calculate the sum of even (/odd) numbers in a range from 1 to n (n is entered from the keyboard).\n",
    "num = int(input(\"Nhập số bất kỳ: \"))\n",
    "total_even = 0\n",
    "total_odd = 0\n",
    "\n",
    "for i in range(1, num + 1):\n",
    "    if i % 2 == 0:\n",
    "        total_even += i\n",
    "    else:\n",
    "        total_odd += i\n",
    "print(f\"Tổng các số chẵn trong khoản từ 1 đến {num} là: {total_even}\")\n",
    "print(f\"Tổng các số lẻ trong khoản từ 1 đến {num} là: {total_odd}\")"
   ]
  },
  {
   "cell_type": "code",
   "execution_count": null,
   "id": "e3210b6b",
   "metadata": {},
   "outputs": [
    {
     "name": "stdout",
     "output_type": "stream",
     "text": [
      "Tổng các chữ cái nguyên âm trong chữ Minh Huy là: 2\n"
     ]
    }
   ],
   "source": [
    "## Write a program to check how many vowels are in a string entered from the keyboard.\n",
    "text = str(input(\"Nhập 1 từ bất kỳ: \"))\n",
    "vowels = \"ueoaiUEOAI\"\n",
    "count = 0\n",
    "\n",
    "for char in text:\n",
    "    if char in vowels:\n",
    "        count += 1\n",
    "    \n",
    "print(f\"Tổng các chữ cái nguyên âm trong chữ {text} là: {count}\")"
   ]
  },
  {
   "cell_type": "code",
   "execution_count": 42,
   "id": "48add948",
   "metadata": {},
   "outputs": [
    {
     "name": "stdout",
     "output_type": "stream",
     "text": [
      "Tổng các chữ cái trong chữ Nguyễn Minh Huy là: 15\n"
     ]
    }
   ],
   "source": [
    "## Write a program to count the number of words in a sentence the user enters.\n",
    "text = str(input(\"Nhập 1 từ bất kỳ: \"))\n",
    "    \n",
    "print(f\"Tổng các chữ cái trong chữ {text} là: {len(text)}\")"
   ]
  },
  {
   "cell_type": "code",
   "execution_count": 41,
   "id": "a8346b9f",
   "metadata": {},
   "outputs": [
    {
     "name": "stdout",
     "output_type": "stream",
     "text": [
      "Bạn đã chọn mức độ Hard, bạn có 4 lần để đoán.\n",
      "Sai rồi, số bạn đoán 2 nhỏ hơn số máy tính đoán\n",
      "Sai rồi, số bạn đoán 2 nhỏ hơn số máy tính đoán\n",
      "Sai rồi, số bạn đoán 2 nhỏ hơn số máy tính đoán\n",
      "Sai rồi, số bạn đoán 2 nhỏ hơn số máy tính đoán\n",
      "Bạn đã thua cuộc. Sô máy tính chọn là 61.\n"
     ]
    }
   ],
   "source": [
    "\"\"\"\n",
    "Write a program that implements a game as the following description:\n",
    "\n",
    "\t1. The computer generates a random number from 1 to 100\n",
    "\n",
    "\t2. The user was asked to guess\n",
    "\n",
    "\t3. match the user-guessing number to the generated number\n",
    "\n",
    "The user can only guess five times.\n",
    "\"\"\"\n",
    "\n",
    "import random\n",
    "\n",
    "def game_engine():\n",
    "\t\n",
    "\tlevel = {\"Easy\": 10,\n",
    "\t\t\t \"Medium\": 6,\n",
    "\t\t\t \"Hard\": 4}\n",
    "\t\n",
    "\tchoose = input(\"Chọn độ khó: (Easy / Medium / Hard): \")\n",
    "\n",
    "\tattempts = level[choose]\n",
    "\tprint(f\"Bạn đã chọn mức độ {choose}, bạn có {attempts} lần để đoán.\")\n",
    "\n",
    "\tnum = random.randint(1, 100)\n",
    "\t\n",
    "\tfor i in range (attempts):\n",
    "\t\tguess_num = int(input(\"Nhập số từ 1 đến 100: \"))\n",
    "\n",
    "\t\tif guess_num < 1 or guess_num > 100:\n",
    "\t\t\tprint(\"Số bạn chọn nằm ngoài khoảng từ 1 đến 100. Xin vui lòng nhập lại.\")\n",
    "\t\t\tcontinue\n",
    "\t\t\n",
    "\t\tif num == guess_num:\n",
    "\t\t\tprint(f\"Xin chúc mừng. Bạn đã đoán đúng sau {i + 1} lần. Số được đoán là {num}\")\n",
    "\t\t\tbreak\n",
    "\n",
    "\t\telse:\n",
    "\t\t\tif guess_num < num:\n",
    "\t\t\t\tprint(f\"Sai rồi, số bạn đoán {guess_num} nhỏ hơn số máy tính đoán\")\n",
    "\t\t\telse:\n",
    "\t\t\t\tprint(f\"Sai rồi, số bạn đoán {guess_num} lớn hơn số máy tính đoán\")\n",
    "\n",
    "\telse:\n",
    "\t\tprint(f\"Bạn đã thua cuộc. Sô máy tính chọn là {num}.\")\n",
    "\n",
    "if __name__ == \"__main__\":\n",
    "\t\tgame_engine()"
   ]
  },
  {
   "cell_type": "code",
   "execution_count": null,
   "id": "07e676f0",
   "metadata": {},
   "outputs": [],
   "source": []
  }
 ],
 "metadata": {
  "kernelspec": {
   "display_name": "Python 3",
   "language": "python",
   "name": "python3"
  },
  "language_info": {
   "codemirror_mode": {
    "name": "ipython",
    "version": 3
   },
   "file_extension": ".py",
   "mimetype": "text/x-python",
   "name": "python",
   "nbconvert_exporter": "python",
   "pygments_lexer": "ipython3",
   "version": "3.11.9"
  }
 },
 "nbformat": 4,
 "nbformat_minor": 5
}
