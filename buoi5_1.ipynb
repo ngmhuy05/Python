{
 "cells": [
  {
   "cell_type": "code",
   "execution_count": null,
   "id": "b7867cfc",
   "metadata": {},
   "outputs": [
    {
     "name": "stdout",
     "output_type": "stream",
     "text": [
      "Tổng các phần tử: 15\n"
     ]
    }
   ],
   "source": [
    "# Bài 1\n",
    "def sum_list(lst):\n",
    "    total = 0\n",
    "    for num in lst:\n",
    "        total += num\n",
    "    return total\n",
    "\n",
    "lst = [1, 2, 3, 4, 5]\n",
    "print(\"Tổng các phần tử:\", sum_list(lst))"
   ]
  },
  {
   "cell_type": "code",
   "execution_count": null,
   "id": "e8d6556a",
   "metadata": {},
   "outputs": [
    {
     "name": "stdout",
     "output_type": "stream",
     "text": [
      "Tích các phần tử: 120\n"
     ]
    }
   ],
   "source": [
    "# Bài 2\n",
    "def multiply_list(lst):\n",
    "    result = 1\n",
    "    for num in lst:\n",
    "        result *= num\n",
    "    return result\n",
    "\n",
    "lst = [1, 2, 3, 4, 5]\n",
    "print(\"Tích các phần tử:\", multiply_list(lst))"
   ]
  },
  {
   "cell_type": "code",
   "execution_count": 7,
   "id": "410496c6",
   "metadata": {},
   "outputs": [
    {
     "name": "stdout",
     "output_type": "stream",
     "text": [
      "Số lớn nhất: 5\n"
     ]
    }
   ],
   "source": [
    "# Bài 3\n",
    "def max_in_list(lst):\n",
    "    max_val = lst[0]\n",
    "    for num in lst:\n",
    "        if num > max_val:\n",
    "            max_val = num\n",
    "    return max_val\n",
    "\n",
    "lst = [1, 2, 3, 4, 5]\n",
    "print(\"Số lớn nhất:\", max_in_list(lst))"
   ]
  },
  {
   "cell_type": "code",
   "execution_count": 8,
   "id": "08edcb39",
   "metadata": {},
   "outputs": [
    {
     "name": "stdout",
     "output_type": "stream",
     "text": [
      "Số nhỏ nhất: 1\n"
     ]
    }
   ],
   "source": [
    "# Bài 4\n",
    "def min_in_list(lst):\n",
    "    min_val = lst[0]\n",
    "    for num in lst:\n",
    "        if num < min_val:\n",
    "            min_val = num\n",
    "    return min_val\n",
    "\n",
    "lst = [1, 2, 3, 4, 5]\n",
    "print(\"Số nhỏ nhất:\", min_in_list(lst))"
   ]
  },
  {
   "cell_type": "code",
   "execution_count": 9,
   "id": "dca445cc",
   "metadata": {},
   "outputs": [
    {
     "name": "stdout",
     "output_type": "stream",
     "text": [
      "Số lượng chuỗi đặc biệt: 2\n"
     ]
    }
   ],
   "source": [
    "# Bài 5\n",
    "def count_special_strings(words):\n",
    "    count = 0\n",
    "    for word in words:\n",
    "        if len(word) >= 2 and word[0] == word[-1]:\n",
    "            count += 1\n",
    "    return count\n",
    "\n",
    "words = ['abc', 'aba', 'xyz', 'aa', 'a']\n",
    "print(\"Số lượng chuỗi đặc biệt:\", count_special_strings(words))"
   ]
  },
  {
   "cell_type": "code",
   "execution_count": 10,
   "id": "69ebaaf6",
   "metadata": {},
   "outputs": [
    {
     "name": "stdout",
     "output_type": "stream",
     "text": [
      "Danh sách sau khi sắp xếp theo phần tử cuối: [(5, 1), (3, 2), (1, 3)]\n"
     ]
    }
   ],
   "source": [
    "# Bài 6\n",
    "def sort_last(tuples):\n",
    "    return sorted(tuples, key=lambda x: x[-1])\n",
    "\n",
    "tuples = [(1, 3), (3, 2), (5, 1)]\n",
    "print(\"Danh sách sau khi sắp xếp theo phần tử cuối:\", sort_last(tuples))"
   ]
  },
  {
   "cell_type": "code",
   "execution_count": 11,
   "id": "4fd45a77",
   "metadata": {},
   "outputs": [
    {
     "name": "stdout",
     "output_type": "stream",
     "text": [
      "Danh sách sau khi xóa phần tử trùng lặp: [1, 2, 3, 4, 5]\n"
     ]
    }
   ],
   "source": [
    "# Bài 7\n",
    "def remove_duplicates(lst):\n",
    "    result = []\n",
    "    for item in lst:\n",
    "        if item not in result:\n",
    "            result.append(item)\n",
    "    return result\n",
    "\n",
    "lst = [1, 2, 2, 3, 4, 4, 5]\n",
    "print(\"Danh sách sau khi xóa phần tử trùng lặp:\", remove_duplicates(lst))"
   ]
  },
  {
   "cell_type": "code",
   "execution_count": 12,
   "id": "6269dcad",
   "metadata": {},
   "outputs": [
    {
     "name": "stdout",
     "output_type": "stream",
     "text": [
      "Danh sách có rỗng không: True\n"
     ]
    }
   ],
   "source": [
    "# Bài 8\n",
    "def is_list_empty(lst):\n",
    "    return len(lst) == 0\n",
    "\n",
    "lst = []\n",
    "print(\"Danh sách có rỗng không:\", is_list_empty(lst))"
   ]
  },
  {
   "cell_type": "code",
   "execution_count": 13,
   "id": "a2bc6f3a",
   "metadata": {},
   "outputs": [
    {
     "name": "stdout",
     "output_type": "stream",
     "text": [
      "Danh sách sao chép: [1, 2, 3, 4]\n"
     ]
    }
   ],
   "source": [
    "# Bài 9\n",
    "def clone_list(lst):\n",
    "    return lst.copy()\n",
    "\n",
    "lst = [1, 2, 3, 4]\n",
    "print(\"Danh sách sao chép:\", clone_list(lst))"
   ]
  },
  {
   "cell_type": "code",
   "execution_count": 14,
   "id": "18661f77",
   "metadata": {},
   "outputs": [
    {
     "name": "stdout",
     "output_type": "stream",
     "text": [
      "Các từ dài hơn 5 là: ['banana', 'cherry']\n"
     ]
    }
   ],
   "source": [
    "# Bài 10\n",
    "def long_words(words, n):\n",
    "    result = []\n",
    "    for word in words:\n",
    "        if len(word) > n:\n",
    "            result.append(word)\n",
    "    return result\n",
    "\n",
    "words = ['apple', 'banana', 'cherry', 'kiwi']\n",
    "n = 5\n",
    "print(\"Các từ dài hơn\", n, \"là:\", long_words(words, n))"
   ]
  },
  {
   "cell_type": "code",
   "execution_count": 15,
   "id": "311bbe15",
   "metadata": {},
   "outputs": [
    {
     "name": "stdout",
     "output_type": "stream",
     "text": [
      "Hai danh sách có phần tử chung không: True\n"
     ]
    }
   ],
   "source": [
    "# Bài 11\n",
    "def have_common_member(list1, list2):\n",
    "    for item in list1:\n",
    "        if item in list2:\n",
    "            return True\n",
    "    return False\n",
    "\n",
    "list1 = [1, 2, 3]\n",
    "list2 = [3, 4, 5]\n",
    "print(\"Hai danh sách có phần tử chung không:\", have_common_member(list1, list2))"
   ]
  },
  {
   "cell_type": "code",
   "execution_count": 16,
   "id": "e6d0569b",
   "metadata": {},
   "outputs": [
    {
     "name": "stdout",
     "output_type": "stream",
     "text": [
      "Danh sách sau khi xóa các phần tử ở vị trí 0, 4, 5: [20, 30, 40]\n"
     ]
    }
   ],
   "source": [
    "# Bài 12\n",
    "def remove_indices(lst):\n",
    "    return [lst[i] for i in range(len(lst)) if i not in (0, 4, 5)]\n",
    "\n",
    "lst = [10, 20, 30, 40, 50, 60]\n",
    "print(\"Danh sách sau khi xóa các phần tử ở vị trí 0, 4, 5:\", remove_indices(lst))"
   ]
  },
  {
   "cell_type": "code",
   "execution_count": 17,
   "id": "934e7329",
   "metadata": {},
   "outputs": [
    {
     "name": "stdout",
     "output_type": "stream",
     "text": [
      "[[['*' '*' '*' '*' '*' '*']\n",
      "  ['*' '*' '*' '*' '*' '*']\n",
      "  ['*' '*' '*' '*' '*' '*']\n",
      "  ['*' '*' '*' '*' '*' '*']]\n",
      "\n",
      " [['*' '*' '*' '*' '*' '*']\n",
      "  ['*' '*' '*' '*' '*' '*']\n",
      "  ['*' '*' '*' '*' '*' '*']\n",
      "  ['*' '*' '*' '*' '*' '*']]\n",
      "\n",
      " [['*' '*' '*' '*' '*' '*']\n",
      "  ['*' '*' '*' '*' '*' '*']\n",
      "  ['*' '*' '*' '*' '*' '*']\n",
      "  ['*' '*' '*' '*' '*' '*']]]\n"
     ]
    }
   ],
   "source": [
    "# Bài 13\n",
    "import numpy as np\n",
    "arr = np.full((3, 4, 6), \"*\")\n",
    "print(arr)"
   ]
  },
  {
   "cell_type": "code",
   "execution_count": 18,
   "id": "7a79714c",
   "metadata": {},
   "outputs": [
    {
     "name": "stdout",
     "output_type": "stream",
     "text": [
      "Danh sách sau khi loại bỏ số chẵn: [1, 3, 5, 7]\n"
     ]
    }
   ],
   "source": [
    "# Bài 14\n",
    "def remove_even(lst):\n",
    "    return [x for x in lst if x % 2 != 0]\n",
    "\n",
    "lst = [1, 2, 3, 4, 5, 6, 7]\n",
    "print(\"Danh sách sau khi loại bỏ số chẵn:\", remove_even(lst))"
   ]
  },
  {
   "cell_type": "code",
   "execution_count": 19,
   "id": "da7af818",
   "metadata": {},
   "outputs": [
    {
     "name": "stdout",
     "output_type": "stream",
     "text": [
      "Danh sách sau khi trộn: [5, 4, 3, 2, 1]\n"
     ]
    }
   ],
   "source": [
    "# Bài 15\n",
    "import random\n",
    "\n",
    "def shuffle_list(lst):\n",
    "    random.shuffle(lst)\n",
    "    return lst\n",
    "\n",
    "lst = [1, 2, 3, 4, 5]\n",
    "print(\"Danh sách sau khi trộn:\", shuffle_list(lst))"
   ]
  },
  {
   "cell_type": "code",
   "execution_count": 20,
   "id": "287bce53",
   "metadata": {},
   "outputs": [
    {
     "name": "stdout",
     "output_type": "stream",
     "text": [
      "5 phần tử đầu: [1, 4, 9, 16, 25]\n",
      "5 phần tử cuối: [1, 4, 9, 16, 25]\n"
     ]
    }
   ],
   "source": [
    "# Bài 16\n",
    "def square_numbers():\n",
    "    squares = [x**2 for x in range(1, 31) if x**2 <= 30]\n",
    "    return squares[:5], squares[-5:]\n",
    "\n",
    "print(\"5 phần tử đầu:\", square_numbers()[0])\n",
    "print(\"5 phần tử cuối:\", square_numbers()[1])"
   ]
  },
  {
   "cell_type": "code",
   "execution_count": 21,
   "id": "cb129ab2",
   "metadata": {},
   "outputs": [
    {
     "name": "stdout",
     "output_type": "stream",
     "text": [
      "Tất cả các số nguyên tố: True\n",
      "Tất cả các số nguyên tố: False\n"
     ]
    }
   ],
   "source": [
    "# Bài 17\n",
    "def is_prime(num):\n",
    "    if num < 2:\n",
    "        return False\n",
    "    for i in range(2, num):\n",
    "        if num % i == 0:\n",
    "            return False\n",
    "    return True\n",
    "\n",
    "def all_primes(lst):\n",
    "    return all(is_prime(x) for x in lst)\n",
    "\n",
    "print(\"Tất cả các số nguyên tố:\", all_primes([3, 5, 7, 13]))\n",
    "print(\"Tất cả các số nguyên tố:\", all_primes([0, 3, 4, 7, 9]))"
   ]
  },
  {
   "cell_type": "code",
   "execution_count": 22,
   "id": "6b5f3224",
   "metadata": {},
   "outputs": [
    {
     "name": "stdout",
     "output_type": "stream",
     "text": [
      "Các hoán vị của danh sách: [(1, 2, 3), (1, 3, 2), (2, 1, 3), (2, 3, 1), (3, 1, 2), (3, 2, 1)]\n"
     ]
    }
   ],
   "source": [
    "# Bài 18\n",
    "import itertools\n",
    "\n",
    "def generate_permutations(lst):\n",
    "    return list(itertools.permutations(lst))\n",
    "\n",
    "lst = [1, 2, 3]\n",
    "print(\"Các hoán vị của danh sách:\", generate_permutations(lst))"
   ]
  },
  {
   "cell_type": "code",
   "execution_count": null,
   "id": "53d4f44d",
   "metadata": {},
   "outputs": [
    {
     "name": "stdout",
     "output_type": "stream",
     "text": [
      "Hiệu giữa hai danh sách: [1, 2]\n"
     ]
    }
   ],
   "source": [
    "# Bài 19\n",
    "def list_difference(lst1, lst2):\n",
    "    return list(set(lst1) - set(lst2))\n",
    "\n",
    "lst1 = [1, 2, 3, 4]\n",
    "lst2 = [3, 4, 5, 6]\n",
    "print(\"Hiệu giữa hai danh sách:\", list_difference(lst1, lst2))"
   ]
  },
  {
   "cell_type": "code",
   "execution_count": 24,
   "id": "21c03698",
   "metadata": {},
   "outputs": [
    {
     "name": "stdout",
     "output_type": "stream",
     "text": [
      "Chỉ số của 'c' là: 2\n"
     ]
    }
   ],
   "source": [
    "# Bài 20\n",
    "lst = ['a', 'b', 'c', 'd']\n",
    "index = lst.index('c')\n",
    "print(\"Chỉ số của 'c' là:\", index)"
   ]
  },
  {
   "cell_type": "code",
   "execution_count": 25,
   "id": "cf0fad1d",
   "metadata": {},
   "outputs": [
    {
     "name": "stdout",
     "output_type": "stream",
     "text": [
      "Chuỗi từ danh sách ký tự: Hello\n"
     ]
    }
   ],
   "source": [
    "# Bài 21\n",
    "def list_to_string(lst):\n",
    "    return ''.join(lst)\n",
    "\n",
    "lst = ['H', 'e', 'l', 'l', 'o']\n",
    "print(\"Chuỗi từ danh sách ký tự:\", list_to_string(lst))"
   ]
  },
  {
   "cell_type": "code",
   "execution_count": 26,
   "id": "8e2a795d",
   "metadata": {},
   "outputs": [
    {
     "name": "stdout",
     "output_type": "stream",
     "text": [
      "Chỉ số của phần tử 30: 2\n"
     ]
    }
   ],
   "source": [
    "# Bài 22\n",
    "lst = [10, 20, 30, 40]\n",
    "index = lst.index(30)\n",
    "print(\"Chỉ số của phần tử 30:\", index)"
   ]
  },
  {
   "cell_type": "code",
   "execution_count": 63,
   "id": "006a08be",
   "metadata": {},
   "outputs": [
    {
     "name": "stdout",
     "output_type": "stream",
     "text": [
      "Danh sách đã được làm phẳng: [1, 2, 3, 4, 5, 6]\n"
     ]
    }
   ],
   "source": [
    "# Bài 23\n",
    "def flatten_list(lst):\n",
    "    flat_list = []\n",
    "    for sublist in lst:\n",
    "        for item in sublist:\n",
    "            flat_list.append(item)\n",
    "    return flat_list\n",
    "\n",
    "lst = [[1, 2], [3, 4], [5, 6]]\n",
    "print(\"Danh sách đã được làm phẳng:\", flatten_list(lst))"
   ]
  },
  {
   "cell_type": "code",
   "execution_count": 28,
   "id": "4a0b7a59",
   "metadata": {},
   "outputs": [
    {
     "name": "stdout",
     "output_type": "stream",
     "text": [
      "Danh sách sau khi thêm: [1, 2, 3, 4, 5, 6]\n"
     ]
    }
   ],
   "source": [
    "# Bài 24\n",
    "def append_lists(lst1, lst2):\n",
    "    lst1.extend(lst2)\n",
    "    return lst1\n",
    "\n",
    "lst1 = [1, 2, 3]\n",
    "lst2 = [4, 5, 6]\n",
    "print(\"Danh sách sau khi thêm:\", append_lists(lst1, lst2))"
   ]
  },
  {
   "cell_type": "code",
   "execution_count": 30,
   "id": "efbd3742",
   "metadata": {},
   "outputs": [
    {
     "name": "stdout",
     "output_type": "stream",
     "text": [
      "Phần tử ngẫu nhiên được chọn: 4\n"
     ]
    }
   ],
   "source": [
    "# Bài 25\n",
    "import random\n",
    "\n",
    "lst = [1, 2, 3, 4, 5]\n",
    "random_item = random.choice(lst)\n",
    "print(\"Phần tử ngẫu nhiên được chọn:\", random_item)"
   ]
  },
  {
   "cell_type": "code",
   "execution_count": 31,
   "id": "780394e5",
   "metadata": {},
   "outputs": [
    {
     "name": "stdout",
     "output_type": "stream",
     "text": [
      "Hai danh sách xoay vòng giống nhau: True\n"
     ]
    }
   ],
   "source": [
    "# Bài 26\n",
    "def are_circularly_identical(lst1, lst2):\n",
    "    if len(lst1) != len(lst2):\n",
    "        return False\n",
    "    return any(lst1 == lst2[i:] + lst2[:i] for i in range(len(lst2)))\n",
    "\n",
    "lst1 = [1, 2, 3]\n",
    "lst2 = [2, 3, 1]\n",
    "print(\"Hai danh sách xoay vòng giống nhau:\", are_circularly_identical(lst1, lst2))"
   ]
  },
  {
   "cell_type": "code",
   "execution_count": 32,
   "id": "f6f8856a",
   "metadata": {},
   "outputs": [
    {
     "name": "stdout",
     "output_type": "stream",
     "text": [
      "Số nhỏ thứ hai: 2\n"
     ]
    }
   ],
   "source": [
    "# Bài 27\n",
    "def second_smallest(lst):\n",
    "    unique_lst = list(set(lst))\n",
    "    unique_lst.sort()\n",
    "    return unique_lst[1] if len(unique_lst) > 1 else None\n",
    "\n",
    "lst = [1, 2, 3, 4, 5]\n",
    "print(\"Số nhỏ thứ hai:\", second_smallest(lst))"
   ]
  },
  {
   "cell_type": "code",
   "execution_count": 33,
   "id": "29de2297",
   "metadata": {},
   "outputs": [
    {
     "name": "stdout",
     "output_type": "stream",
     "text": [
      "Số lớn thứ hai: 4\n"
     ]
    }
   ],
   "source": [
    "# Bài 28\n",
    "def second_largest(lst):\n",
    "    unique_lst = list(set(lst))\n",
    "    unique_lst.sort()\n",
    "    return unique_lst[-2] if len(unique_lst) > 1 else None\n",
    "\n",
    "lst = [1, 2, 3, 4, 5]\n",
    "print(\"Số lớn thứ hai:\", second_largest(lst))"
   ]
  },
  {
   "cell_type": "code",
   "execution_count": 34,
   "id": "45c01625",
   "metadata": {},
   "outputs": [
    {
     "name": "stdout",
     "output_type": "stream",
     "text": [
      "Các giá trị duy nhất: [1, 2, 3, 4, 5]\n"
     ]
    }
   ],
   "source": [
    "# Bài 29\n",
    "def unique_values(lst):\n",
    "    return list(set(lst))\n",
    "\n",
    "lst = [1, 2, 2, 3, 4, 4, 5]\n",
    "print(\"Các giá trị duy nhất:\", unique_values(lst))"
   ]
  },
  {
   "cell_type": "code",
   "execution_count": 35,
   "id": "b621e10b",
   "metadata": {},
   "outputs": [
    {
     "name": "stdout",
     "output_type": "stream",
     "text": [
      "Tần suất xuất hiện của các phần tử: Counter({3: 3, 2: 2, 1: 1, 4: 1})\n"
     ]
    }
   ],
   "source": [
    "# Bài 30\n",
    "from collections import Counter\n",
    "\n",
    "lst = [1, 2, 2, 3, 3, 3, 4]\n",
    "freq = Counter(lst)\n",
    "print(\"Tần suất xuất hiện của các phần tử:\", freq)"
   ]
  },
  {
   "cell_type": "code",
   "execution_count": 64,
   "id": "7407656a",
   "metadata": {},
   "outputs": [
    {
     "name": "stdout",
     "output_type": "stream",
     "text": [
      "Số lượng phần tử trong phạm vi 2 đến 5: 4\n"
     ]
    }
   ],
   "source": [
    "# Bài 31\n",
    "def count_in_range(lst, start, end):\n",
    "    count = 0\n",
    "    for x in lst:\n",
    "        if start <= x <= end:\n",
    "            count += 1\n",
    "    return count\n",
    "\n",
    "lst = [1, 2, 3, 4, 5, 6]\n",
    "print(\"Số lượng phần tử trong phạm vi 2 đến 5:\", count_in_range(lst, 2, 5))"
   ]
  },
  {
   "cell_type": "code",
   "execution_count": 68,
   "id": "9c2e23d8",
   "metadata": {},
   "outputs": [
    {
     "name": "stdout",
     "output_type": "stream",
     "text": [
      "Danh sách có chứa dãy con: True\n"
     ]
    }
   ],
   "source": [
    "# Bài 32\n",
    "def contains_sublist(lst, sublist):\n",
    "    for i in range(len(lst) - len(sublist) + 1):\n",
    "        if lst[i:i+len(sublist)] == sublist:\n",
    "            return True\n",
    "    return False\n",
    "\n",
    "lst = [1, 2, 3, 4, 5]\n",
    "sublist = [2, 3]\n",
    "print(\"Danh sách có chứa dãy con:\", contains_sublist(lst, sublist))"
   ]
  },
  {
   "cell_type": "code",
   "execution_count": 69,
   "id": "83a015e7",
   "metadata": {},
   "outputs": [
    {
     "name": "stdout",
     "output_type": "stream",
     "text": [
      "Các dãy con của danh sách: [[1], [1, 2], [1, 2, 3], [2], [2, 3], [3]]\n"
     ]
    }
   ],
   "source": [
    "# Bài 33\n",
    "def all_sublists(lst):\n",
    "    sublists = []\n",
    "    for i in range(len(lst)):\n",
    "        for j in range(i+1, len(lst)+1):\n",
    "            sublists.append(lst[i:j])\n",
    "    return sublists\n",
    "\n",
    "lst = [1, 2, 3]\n",
    "print(\"Các dãy con của danh sách:\", all_sublists(lst))"
   ]
  },
  {
   "cell_type": "code",
   "execution_count": 70,
   "id": "23de22f0",
   "metadata": {},
   "outputs": [
    {
     "name": "stdout",
     "output_type": "stream",
     "text": [
      "Các số nguyên tố đến 30: [2, 3, 5, 7, 11, 13, 17, 19, 23, 29]\n"
     ]
    }
   ],
   "source": [
    "# Bài 34\n",
    "def sieve_of_eratosthenes(n):\n",
    "    primes = [True] * (n+1)\n",
    "    primes[0] = primes[1] = False\n",
    "    for i in range(2, int(n**0.5) + 1):\n",
    "        if primes[i]:\n",
    "            for j in range(i*i, n+1, i):\n",
    "                primes[j] = False\n",
    "    return [x for x in range(2, n+1) if primes[x]]\n",
    "\n",
    "print(\"Các số nguyên tố đến 30:\", sieve_of_eratosthenes(30))"
   ]
  },
  {
   "cell_type": "code",
   "execution_count": 71,
   "id": "4913e693",
   "metadata": {},
   "outputs": [
    {
     "name": "stdout",
     "output_type": "stream",
     "text": [
      "Danh sách sau khi nối: ['p1', 'p2', 'p3', 'p4', 'p5', 'q1', 'q2', 'q3', 'q4', 'q5']\n"
     ]
    }
   ],
   "source": [
    "# Bài 35\n",
    "def concatenate_with_range(lst, n):\n",
    "    result = []\n",
    "    for item in lst:\n",
    "        for i in range(1, n+1):\n",
    "            result.append(f\"{item}{i}\")\n",
    "    return result\n",
    "\n",
    "lst = ['p', 'q']\n",
    "n = 5\n",
    "print(\"Danh sách sau khi nối:\", concatenate_with_range(lst, n))"
   ]
  },
  {
   "cell_type": "code",
   "execution_count": 41,
   "id": "f69b32fa",
   "metadata": {},
   "outputs": [
    {
     "name": "stdout",
     "output_type": "stream",
     "text": [
      "ID của biến a: 1739289177200\n"
     ]
    }
   ],
   "source": [
    "# Bài 36\n",
    "a = \"Hello\"\n",
    "print(\"ID của biến a:\", id(a))"
   ]
  },
  {
   "cell_type": "code",
   "execution_count": 54,
   "id": "0db9d1ed",
   "metadata": {},
   "outputs": [
    {
     "name": "stdout",
     "output_type": "stream",
     "text": [
      "Các phần tử chung: [4, 5]\n"
     ]
    }
   ],
   "source": [
    "# Bài 37\n",
    "def common_items(lst1, lst2):\n",
    "    common = []\n",
    "    for item in lst1:\n",
    "        if item in lst2:\n",
    "            common.append(item)\n",
    "    return common\n",
    "\n",
    "lst1 = [1, 2, 3, 4, 5]\n",
    "lst2 = [4, 5, 6, 7, 8]\n",
    "print(\"Các phần tử chung:\", common_items(lst1, lst2))"
   ]
  },
  {
   "cell_type": "code",
   "execution_count": null,
   "id": "2e3f053b",
   "metadata": {},
   "outputs": [
    {
     "name": "stdout",
     "output_type": "stream",
     "text": [
      "Danh sách sau khi thay đổi vị trí: [1, 0, 3, 2, 5, 4]\n"
     ]
    }
   ],
   "source": [
    "# Bài 38\n",
    "def change_positions(lst):\n",
    "    for i in range(0, len(lst) - 1, 2):\n",
    "        lst[i], lst[i + 1] = lst[i + 1], lst[i]\n",
    "    return lst\n",
    "\n",
    "lst = [0, 1, 2, 3, 4, 5]\n",
    "print(\"Danh sách sau khi thay đổi vị trí:\", change_positions(lst))"
   ]
  },
  {
   "cell_type": "code",
   "execution_count": 55,
   "id": "084fdeb5",
   "metadata": {},
   "outputs": [
    {
     "name": "stdout",
     "output_type": "stream",
     "text": [
      "Số nguyên tạo thành: 113350\n"
     ]
    }
   ],
   "source": [
    "# Bài 39\n",
    "def convert_to_integer(lst):\n",
    "    result = ''\n",
    "    for num in lst:\n",
    "        result += str(num)\n",
    "    return int(result)\n",
    "\n",
    "lst = [11, 33, 50]\n",
    "print(\"Số nguyên tạo thành:\", convert_to_integer(lst))"
   ]
  },
  {
   "cell_type": "code",
   "execution_count": 56,
   "id": "3a782c2d",
   "metadata": {},
   "outputs": [
    {
     "name": "stdout",
     "output_type": "stream",
     "text": [
      "Danh sách sau khi chia: {'a': ['apple', 'avocado'], 'b': ['banana', 'blueberry'], 'c': ['cherry']}\n"
     ]
    }
   ],
   "source": [
    "# Bài 40\n",
    "from collections import defaultdict\n",
    "\n",
    "def split_by_first_char(lst):\n",
    "    groups = {}\n",
    "    for word in lst:\n",
    "        first_char = word[0]\n",
    "        if first_char not in groups:\n",
    "            groups[first_char] = []\n",
    "        groups[first_char].append(word)\n",
    "    return groups\n",
    "\n",
    "lst = ['apple', 'banana', 'cherry', 'avocado', 'blueberry']\n",
    "print(\"Danh sách sau khi chia:\", split_by_first_char(lst))"
   ]
  },
  {
   "cell_type": "code",
   "execution_count": 46,
   "id": "7e776d4a",
   "metadata": {},
   "outputs": [
    {
     "name": "stdout",
     "output_type": "stream",
     "text": [
      "Danh sách 1: [1, 2, 3]\n",
      "Danh sách 2: ['a', 'b', 'c']\n",
      "Danh sách 3: [True, False, True]\n"
     ]
    }
   ],
   "source": [
    "# Bài 41\n",
    "lst1 = [1, 2, 3]\n",
    "lst2 = ['a', 'b', 'c']\n",
    "lst3 = [True, False, True]\n",
    "\n",
    "print(\"Danh sách 1:\", lst1)\n",
    "print(\"Danh sách 2:\", lst2)\n",
    "print(\"Danh sách 3:\", lst3)"
   ]
  },
  {
   "cell_type": "code",
   "execution_count": 57,
   "id": "f05c9986",
   "metadata": {},
   "outputs": [
    {
     "name": "stdout",
     "output_type": "stream",
     "text": [
      "Giá trị thiếu: ['a']\n",
      "Giá trị thêm: ['e', 'd']\n"
     ]
    }
   ],
   "source": [
    "# Bài 42\n",
    "def find_missing_and_additional(lst1, lst2):\n",
    "    missing = set(lst1) - set(lst2)\n",
    "    additional = set(lst2) - set(lst1)\n",
    "    return list(missing), list(additional)\n",
    "\n",
    "lst1 = ['a', 'b', 'c']\n",
    "lst2 = ['b', 'c', 'd', 'e']\n",
    "missing, additional = find_missing_and_additional(lst1, lst2)\n",
    "print(\"Giá trị thiếu:\", missing)\n",
    "print(\"Giá trị thêm:\", additional)"
   ]
  },
  {
   "cell_type": "code",
   "execution_count": 48,
   "id": "0a29abc8",
   "metadata": {},
   "outputs": [
    {
     "name": "stdout",
     "output_type": "stream",
     "text": [
      "1 2 3 4\n"
     ]
    }
   ],
   "source": [
    "# Bài 43\n",
    "lst = [1, 2, 3, 4]\n",
    "a, b, c, d = lst\n",
    "print(a, b, c, d)"
   ]
  },
  {
   "cell_type": "code",
   "execution_count": null,
   "id": "57cfd23b",
   "metadata": {},
   "outputs": [
    {
     "name": "stdout",
     "output_type": "stream",
     "text": [
      "Các nhóm gồm 5 số liên tiếp: [[1, 2, 3, 4, 5], [6, 7, 8, 9, 10], [11, 12]]\n"
     ]
    }
   ],
   "source": [
    "# Bài 44\n",
    "def generate_groups(lst):\n",
    "    result = []\n",
    "    for i in range(0, len(lst), 5):\n",
    "        result.append(lst[i:i + 5])\n",
    "    return result\n",
    "\n",
    "lst = [1, 2, 3, 4, 5, 6, 7, 8, 9, 10, 11, 12]\n",
    "print(\"Các nhóm gồm 5 số liên tiếp:\", generate_groups(lst))"
   ]
  },
  {
   "cell_type": "code",
   "execution_count": 58,
   "id": "6a0dd109",
   "metadata": {},
   "outputs": [
    {
     "name": "stdout",
     "output_type": "stream",
     "text": [
      "Mảng sau khi sắp xếp và loại trùng: [1, 2, 3, 4, 5]\n"
     ]
    }
   ],
   "source": [
    "# Bài 45\n",
    "def convert_and_sort(pair1, pair2):\n",
    "    combined = pair1 + pair2\n",
    "    unique_sorted = sorted(set(combined))\n",
    "    return unique_sorted\n",
    "\n",
    "pair1 = [1, 2, 3]\n",
    "pair2 = [3, 4, 5]\n",
    "print(\"Mảng sau khi sắp xếp và loại trùng:\", convert_and_sort(pair1, pair2))"
   ]
  },
  {
   "cell_type": "code",
   "execution_count": 59,
   "id": "f0125f07",
   "metadata": {},
   "outputs": [
    {
     "name": "stdout",
     "output_type": "stream",
     "text": [
      "Các phần tử lẻ: [1, 3, 5]\n"
     ]
    }
   ],
   "source": [
    "# Bài 46\n",
    "def odd_items(lst):\n",
    "    odd_numbers = []\n",
    "    for item in lst:\n",
    "        if item % 2 != 0:\n",
    "            odd_numbers.append(item)\n",
    "    return odd_numbers\n",
    "\n",
    "lst = [1, 2, 3, 4, 5]\n",
    "print(\"Các phần tử lẻ:\", odd_items(lst))"
   ]
  },
  {
   "cell_type": "code",
   "execution_count": 60,
   "id": "e2123d6d",
   "metadata": {},
   "outputs": [
    {
     "name": "stdout",
     "output_type": "stream",
     "text": [
      "Danh sách sau khi chèn: [0, 1, 0, 2, 0, 3]\n"
     ]
    }
   ],
   "source": [
    "# Bài 47: \n",
    "def insert_before(lst, element):\n",
    "    result = []\n",
    "    for item in lst:\n",
    "        result.append(element)\n",
    "        result.append(item)\n",
    "    return result\n",
    "\n",
    "lst = [1, 2, 3]\n",
    "element = 0\n",
    "print(\"Danh sách sau khi chèn:\", insert_before(lst, element))"
   ]
  },
  {
   "cell_type": "code",
   "execution_count": 53,
   "id": "fb3ae461",
   "metadata": {},
   "outputs": [
    {
     "name": "stdout",
     "output_type": "stream",
     "text": [
      "[1, 2]\n",
      "[3, 4]\n",
      "[5, 6]\n"
     ]
    }
   ],
   "source": [
    "# Bài 48\n",
    "lst = [[1, 2], [3, 4], [5, 6]]\n",
    "for sublist in lst:\n",
    "    print(sublist)"
   ]
  },
  {
   "cell_type": "code",
   "execution_count": 61,
   "id": "f8bb2c52",
   "metadata": {},
   "outputs": [
    {
     "name": "stdout",
     "output_type": "stream",
     "text": [
      "Danh sách từ điển: [{'color_name': 'Black', 'color_code': '#000000'}, {'color_name': 'Red', 'color_code': '#FF0000'}, {'color_name': 'Maroon', 'color_code': '#800000'}, {'color_name': 'Yellow', 'color_code': '#FFFF00'}]\n"
     ]
    }
   ],
   "source": [
    "# Bài 49\n",
    "def list_to_dict(lst1, lst2):\n",
    "    result = []\n",
    "    for i in range(len(lst1)):\n",
    "        result.append({'color_name': lst1[i], 'color_code': lst2[i]})\n",
    "    return result\n",
    "\n",
    "lst1 = [\"Black\", \"Red\", \"Maroon\", \"Yellow\"]\n",
    "lst2 = [\"#000000\", \"#FF0000\", \"#800000\", \"#FFFF00\"]\n",
    "print(\"Danh sách từ điển:\", list_to_dict(lst1, lst2))"
   ]
  },
  {
   "cell_type": "code",
   "execution_count": 62,
   "id": "003d2d6e",
   "metadata": {},
   "outputs": [
    {
     "name": "stdout",
     "output_type": "stream",
     "text": [
      "Danh sách sau khi sắp xếp theo tuổi: [{'name': 'Jane', 'age': 20}, {'name': 'Jack', 'age': 22}, {'name': 'John', 'age': 25}]\n"
     ]
    }
   ],
   "source": [
    "# Bài 50\n",
    "def sort_dict_list(lst, key):\n",
    "    lst.sort(key=lambda x: x[key])\n",
    "    return lst\n",
    "\n",
    "lst = [{'name': 'John', 'age': 25}, {'name': 'Jane', 'age': 20}, {'name': 'Jack', 'age': 22}]\n",
    "print(\"Danh sách sau khi sắp xếp theo tuổi:\", sort_dict_list(lst, 'age'))"
   ]
  }
 ],
 "metadata": {
  "kernelspec": {
   "display_name": "Python 3",
   "language": "python",
   "name": "python3"
  },
  "language_info": {
   "codemirror_mode": {
    "name": "ipython",
    "version": 3
   },
   "file_extension": ".py",
   "mimetype": "text/x-python",
   "name": "python",
   "nbconvert_exporter": "python",
   "pygments_lexer": "ipython3",
   "version": "3.11.9"
  }
 },
 "nbformat": 4,
 "nbformat_minor": 5
}
