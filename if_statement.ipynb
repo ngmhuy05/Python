{
 "cells": [
  {
   "cell_type": "code",
   "execution_count": null,
   "id": "c17df677",
   "metadata": {},
   "outputs": [
    {
     "name": "stdout",
     "output_type": "stream",
     "text": [
      "Bạn đã đủ tuổi để bỏ phiếu\n"
     ]
    }
   ],
   "source": [
    "## Bài 1\n",
    "age = int(input(\"Nhập số tuổi của bạn: \"))\n",
    "\n",
    "if age >= 18:\n",
    "    print(\"Bạn đã đủ tuổi để bỏ phiếu\")\n",
    "else: \n",
    "    print(\"Bạn chưa đủ tuổi để bỏ phiếu\")"
   ]
  },
  {
   "cell_type": "code",
   "execution_count": null,
   "id": "f98db044",
   "metadata": {},
   "outputs": [
    {
     "name": "stdout",
     "output_type": "stream",
     "text": [
      "1000 là số chẵn\n"
     ]
    }
   ],
   "source": [
    "## Bài 2\n",
    "num = int(input(\"Nhập một số bất kỳ: \"))\n",
    "\n",
    "if num % 2 == 0:\n",
    "    print(f\"{num} là số chẵn\")\n",
    "else:\n",
    "    print(f\"{num} là số lẻ\")"
   ]
  },
  {
   "cell_type": "code",
   "execution_count": 11,
   "id": "4d281e38",
   "metadata": {},
   "outputs": [
    {
     "name": "stdout",
     "output_type": "stream",
     "text": [
      "500 không chia hết cho 7\n"
     ]
    }
   ],
   "source": [
    "## Bài 3\n",
    "num = int(input(\"Nhập một số bất kỳ: \"))\n",
    "\n",
    "if num % 7 == 0:\n",
    "    print(f\"{num} chia hết cho 7\")\n",
    "else:\n",
    "    print(f\"{num} không chia hết cho 7\")"
   ]
  },
  {
   "cell_type": "code",
   "execution_count": null,
   "id": "c1c36da0",
   "metadata": {},
   "outputs": [
    {
     "name": "stdout",
     "output_type": "stream",
     "text": [
      "Số cuối cùng của 234 là 4 không chia hết cho 3\n"
     ]
    }
   ],
   "source": [
    "## Bài 4\n",
    "num = int(input(\"Nhập một số bất kỳ: \"))\n",
    "last_digit = num % 10\n",
    "\n",
    "if last_digit % 3 == 0:\n",
    "    print(f\"Số cuối cùng của {num} là số {last_digit} chia hết cho 3\")\n",
    "else:\n",
    "    print(f\"Số cuối cùng của {num} là số {last_digit} không chia hết cho 3\")"
   ]
  },
  {
   "cell_type": "code",
   "execution_count": null,
   "id": "5ecb0855",
   "metadata": {},
   "outputs": [
    {
     "name": "stdout",
     "output_type": "stream",
     "text": [
      "Sai rồi. Số bạn có thể đoán đúng là: 1\n"
     ]
    }
   ],
   "source": [
    "## Bài 5\n",
    "import random\n",
    "\n",
    "num = random.randint(1, 9)\n",
    "guess = int(input(\"Đoán số từ 1 đến 9: \"))\n",
    "\n",
    "if 1 <= guess <= 9 and guess == num:\n",
    "    print(\"Xin chúc mừng bạn đã đoán đúng\")\n",
    "elif guess > 9 or guess < 1:\n",
    "    print(\"Số của bạn vượt qua phạm vi cho phép. Xin vui lòng nhập từ 1 đến 9.\")\n",
    "else:\n",
    "    print(f\"Sai rồi. Số bạn có thể đoán đúng là: {num}\")"
   ]
  },
  {
   "cell_type": "code",
   "execution_count": 24,
   "id": "4e7fa178",
   "metadata": {},
   "outputs": [
    {
     "name": "stdout",
     "output_type": "stream",
     "text": [
      "Hôm nay là ngày: Tuesday (Thứ ba)\n"
     ]
    }
   ],
   "source": [
    "## Bài 6\n",
    "num = int(input(\"Nhập số từ 1 đến 7: \"))\n",
    "days = {1: \"Sunday (Chủ nhật)\",\n",
    "        2: \"Monday (Thứ hai)\",\n",
    "        3: \"Tuesday (Thứ ba)\",\n",
    "        4: \"Wednesday (Thứ tư)\",\n",
    "        5: \"Thursday (Thứ năm)\",\n",
    "        6: \"Friday (Thứ sáu)\",\n",
    "        7: \"Saturday (Thứ bảy)\"}\n",
    "\n",
    "if 1 <= num <= 7:\n",
    "    print(\"Hôm nay là ngày:\", days[num])\n",
    "else:\n",
    "    print(\"Số của bạn vượt qua phạm vi cho phép. Xin vui lòng nhập từ 1 đến 7\")"
   ]
  }
 ],
 "metadata": {
  "kernelspec": {
   "display_name": "Python 3",
   "language": "python",
   "name": "python3"
  },
  "language_info": {
   "codemirror_mode": {
    "name": "ipython",
    "version": 3
   },
   "file_extension": ".py",
   "mimetype": "text/x-python",
   "name": "python",
   "nbconvert_exporter": "python",
   "pygments_lexer": "ipython3",
   "version": "3.11.9"
  }
 },
 "nbformat": 4,
 "nbformat_minor": 5
}
