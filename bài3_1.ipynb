{
 "cells": [
  {
   "cell_type": "code",
   "execution_count": 43,
   "id": "44927685",
   "metadata": {},
   "outputs": [
    {
     "ename": "ValueError",
     "evalue": "invalid literal for int() with base 10: ''",
     "output_type": "error",
     "traceback": [
      "\u001b[1;31m---------------------------------------------------------------------------\u001b[0m",
      "\u001b[1;31mValueError\u001b[0m                                Traceback (most recent call last)",
      "Cell \u001b[1;32mIn[43], line 4\u001b[0m\n\u001b[0;32m      1\u001b[0m \u001b[38;5;66;03m## Write a program that prompts the user to enter base and height of the triangle and calculate an area of this triangle (area = 0.5 x b x h).\u001b[39;00m\n\u001b[0;32m      3\u001b[0m base \u001b[38;5;241m=\u001b[39m \u001b[38;5;28mint\u001b[39m(\u001b[38;5;28minput\u001b[39m(\u001b[38;5;124m\"\u001b[39m\u001b[38;5;124mNhập cạnh đáy của tam giác: \u001b[39m\u001b[38;5;124m\"\u001b[39m))\n\u001b[1;32m----> 4\u001b[0m height \u001b[38;5;241m=\u001b[39m \u001b[38;5;28;43mint\u001b[39;49m\u001b[43m(\u001b[49m\u001b[38;5;28;43minput\u001b[39;49m\u001b[43m(\u001b[49m\u001b[38;5;124;43m\"\u001b[39;49m\u001b[38;5;124;43mNhập chiều cao của tam giác: \u001b[39;49m\u001b[38;5;124;43m\"\u001b[39;49m\u001b[43m)\u001b[49m\u001b[43m)\u001b[49m\n\u001b[0;32m      5\u001b[0m area \u001b[38;5;241m=\u001b[39m \u001b[38;5;241m0.5\u001b[39m \u001b[38;5;241m*\u001b[39m base \u001b[38;5;241m*\u001b[39m height\n\u001b[0;32m      6\u001b[0m \u001b[38;5;28mprint\u001b[39m(\u001b[38;5;124m\"\u001b[39m\u001b[38;5;124mDiện tích của tam giác là:\u001b[39m\u001b[38;5;124m\"\u001b[39m, area)\n",
      "\u001b[1;31mValueError\u001b[0m: invalid literal for int() with base 10: ''"
     ]
    }
   ],
   "source": [
    "## Write a program that prompts the user to enter base and height of the triangle and calculate an area of this triangle (area = 0.5 x b x h).\n",
    "\n",
    "base = int(input(\"Nhập cạnh đáy của tam giác: \"))\n",
    "height = int(input(\"Nhập chiều cao của tam giác: \"))\n",
    "area = 0.5 * base * height\n",
    "print(\"Diện tích của tam giác là:\", area)"
   ]
  },
  {
   "cell_type": "code",
   "execution_count": null,
   "id": "e2c872ad",
   "metadata": {},
   "outputs": [
    {
     "name": "stdout",
     "output_type": "stream",
     "text": [
      "Chu vi của tam giác là: 6\n"
     ]
    }
   ],
   "source": [
    "## Write a script that prompts the user to enter side a, side b, and side c of the triangle. Calculate the perimeter of the triangle (perimeter = a + b + c).\n",
    "\n",
    "side_a = int(input(\"Nhập cạnh a của tam giác: \"))\n",
    "side_b = int(input(\"Nhập cạnh b của tam giác: \"))\n",
    "side_c = int(input(\"Nhập cạnh c của tam giác: \"))\n",
    "perimeter = side_a + side_b + side_c\n",
    "print(\"Chu vi của tam giác là:\", perimeter)"
   ]
  },
  {
   "cell_type": "code",
   "execution_count": null,
   "id": "e3c2353d",
   "metadata": {},
   "outputs": [
    {
     "name": "stdout",
     "output_type": "stream",
     "text": [
      "Diện tích của hình chữ nhật là: 6\n",
      "Chu vi của hình chữ nhật là: 10\n"
     ]
    }
   ],
   "source": [
    "## Get length and width of a rectangle using prompt. Calculate its area (area = length x width) and perimeter (perimeter = 2 x (length + width))\n",
    "\n",
    "length = int(input(\"Nhập chiều dài của hình chữ nhật: \"))\n",
    "width = int(input(\"Nhập chiều rộng của hình chữ nhật: \"))\n",
    "area = length * width\n",
    "perimeter = (length + width) * 2\n",
    "print(\"Diện tích của hình chữ nhật là:\", area)\n",
    "print(\"Chu vi của hình chữ nhật là:\", perimeter)"
   ]
  },
  {
   "cell_type": "code",
   "execution_count": null,
   "id": "43d16e74",
   "metadata": {},
   "outputs": [
    {
     "name": "stdout",
     "output_type": "stream",
     "text": [
      "Diện tích của hình tròn là: 29.5788\n",
      "Chu vi của hình tròn là: 56.519999999999996\n"
     ]
    }
   ],
   "source": [
    "## Get radius of a circle using prompt. Calculate the area (area = pi x r x r) and circumference (c = 2 x pi x r) where pi = 3.14.\n",
    "\n",
    "pi = 3.14\n",
    "r = int(input(\"Nhập bán kính của hình tròn: \"))\n",
    "area = r * (pi ** 2)\n",
    "circumference = r * (2 * pi * r)\n",
    "print(\"Diện tích của hình tròn là:\", area)\n",
    "print(\"Chu vi của hình tròn là:\", circumference)"
   ]
  },
  {
   "cell_type": "code",
   "execution_count": null,
   "id": "f44bc7c8",
   "metadata": {},
   "outputs": [
    {
     "name": "stdout",
     "output_type": "stream",
     "text": [
      "Hệ số góc: 2\n",
      "Tung độ giao điểm: -2\n",
      "Hoành độ giao điểm: 1.0\n"
     ]
    }
   ],
   "source": [
    "## Calculate the slope, x-intercept and y-intercept of y = 2x -2\n",
    "# Phương trình đường thẳng: y = mx + b\n",
    "m = 2     # hệ số góc\n",
    "b = -2    # tung độ giao điểm\n",
    "\n",
    "x_intercept = -b / m\n",
    "y_intercept = b\n",
    "\n",
    "print(\"Hệ số góc:\", m)\n",
    "print(\"Tung độ giao điểm:\", y_intercept)\n",
    "print(\"Hoành độ giao điểm:\", x_intercept)\n"
   ]
  },
  {
   "cell_type": "code",
   "execution_count": null,
   "id": "4df68dbb",
   "metadata": {},
   "outputs": [
    {
     "name": "stdout",
     "output_type": "stream",
     "text": [
      "Hệ số góc: 2.0\n",
      "Khoảng cách Euclid: 8.94427190999916\n"
     ]
    }
   ],
   "source": [
    "## Slope is (m = y2-y1/x2-x1). Find the slope and Euclidean distance between point (2, 2) and point (6,10)\n",
    "\n",
    "import math\n",
    "\n",
    "x1, y1 = 2, 2\n",
    "x2, y2 = 6, 10\n",
    "\n",
    "slope_2 = (y2 - y1) / (x2 - x1)\n",
    "\n",
    "d = math.sqrt((x2 - x1)**2 + (y2 - y1)**2)\n",
    "\n",
    "print(\"Hệ số góc:\", slope_2)\n",
    "print(\"Khoảng cách Euclid:\", d)"
   ]
  },
  {
   "cell_type": "code",
   "execution_count": null,
   "id": "e701d743",
   "metadata": {},
   "outputs": [
    {
     "name": "stdout",
     "output_type": "stream",
     "text": [
      "Slope 1: 2\n",
      "Slope 2: 2.0\n",
      "2 hệ số góc này có bằng nhau không? True\n"
     ]
    }
   ],
   "source": [
    "slope_1 = 2\n",
    "slope_2 = (10 - 2) / (6 - 2)\n",
    "\n",
    "print(\"Slope 1:\", slope_1)\n",
    "print(\"Slope 2:\", slope_2)\n",
    "print(\"2 hệ số góc này có bằng nhau không?\", slope_1 == slope_2)"
   ]
  },
  {
   "cell_type": "code",
   "execution_count": null,
   "id": "ecc47fdf",
   "metadata": {},
   "outputs": [
    {
     "name": "stdout",
     "output_type": "stream",
     "text": [
      "Khi x = -10, y = 49\n",
      "Khi x = -9, y = 36\n",
      "Khi x = -8, y = 25\n",
      "Khi x = -7, y = 16\n",
      "Khi x = -6, y = 9\n",
      "Khi x = -5, y = 4\n",
      "Khi x = -4, y = 1\n",
      "Khi x = -3, y = 0\n",
      "Khi x = -2, y = 1\n",
      "Khi x = -1, y = 4\n",
      "Khi x = 0, y = 9\n",
      "Khi x = 1, y = 16\n",
      "Khi x = 2, y = 25\n",
      "Khi x = 3, y = 36\n",
      "Khi x = 4, y = 49\n"
     ]
    }
   ],
   "source": [
    "## Calculate the value of y (y = x^2 + 6x + 9). Try to use different x values and figure out at what x value y is going to be 0.\n",
    "\n",
    "for x in range(-10, 5):\n",
    "    y = x ** 2 + 6 * x + 9\n",
    "    print(f\"Khi x = {x}, y = {y}\")"
   ]
  },
  {
   "cell_type": "code",
   "execution_count": null,
   "id": "71dc8d80",
   "metadata": {},
   "outputs": [
    {
     "name": "stdout",
     "output_type": "stream",
     "text": [
      "False\n"
     ]
    }
   ],
   "source": [
    "## Find the length of 'python' and 'dragon' and make a falsy comparison statement.\n",
    "\n",
    "print(len(\"python\") != len(\"dragon\"))"
   ]
  },
  {
   "cell_type": "code",
   "execution_count": null,
   "id": "87e32681",
   "metadata": {},
   "outputs": [
    {
     "name": "stdout",
     "output_type": "stream",
     "text": [
      "True\n"
     ]
    }
   ],
   "source": [
    "## Use and operator to check if 'on' is found in both 'python' and 'dragon'\n",
    "\n",
    "print(\"on\" in \"python\" and \"on\" in \"dragon\")"
   ]
  },
  {
   "cell_type": "code",
   "execution_count": null,
   "id": "ac392bc0",
   "metadata": {},
   "outputs": [
    {
     "name": "stdout",
     "output_type": "stream",
     "text": [
      "True\n"
     ]
    }
   ],
   "source": [
    "## I hope this course is not full of jargon. Use in operator to check if jargon is in the sentence.\n",
    "\n",
    "sentence = \"I hope this course is not full of jargon.\"\n",
    "print(\"jargon\" in sentence)"
   ]
  },
  {
   "cell_type": "code",
   "execution_count": null,
   "id": "ee7d4d5d",
   "metadata": {},
   "outputs": [
    {
     "name": "stdout",
     "output_type": "stream",
     "text": [
      "Float: 6.0\n",
      "String: 6\n"
     ]
    }
   ],
   "source": [
    "## Find the length of the text python and convert the value to float and convert it to string\n",
    "\n",
    "length = len(\"python\")\n",
    "length_float = float(length)\n",
    "length_str = str(length)\n",
    "\n",
    "print(\"Float:\", length_float)\n",
    "print(\"String:\", length_str)\n"
   ]
  },
  {
   "cell_type": "code",
   "execution_count": null,
   "id": "880e5b38",
   "metadata": {},
   "outputs": [
    {
     "name": "stdout",
     "output_type": "stream",
     "text": [
      "2 là số chẵn\n"
     ]
    }
   ],
   "source": [
    "## Even numbers are divisible by 2 and the remainder is zero. How do you check if a number is even or not using python?\n",
    "\n",
    "num = int(input(\"Nhập một số bất kỳ: \"))\n",
    "\n",
    "if num % 2 == 0:\n",
    "    print(f\"{num} là số chẵn\")\n",
    "else:\n",
    "    print(f\"{num} là số lẻ\")"
   ]
  },
  {
   "cell_type": "code",
   "execution_count": 44,
   "id": "704621fd",
   "metadata": {},
   "outputs": [
    {
     "name": "stdout",
     "output_type": "stream",
     "text": [
      "Tổng tiền lương của bạn là: 140000.0\n"
     ]
    }
   ],
   "source": [
    "## Writs a script that prompts the user to enter hours and rate per hour. Calculate pay of the person?\n",
    "\n",
    "hours = float(input(\"Nhập số giờ bạn đã làm: \"))\n",
    "rate = float(input(\"Nhập số tiền lương trên 1 giờ: \"))\n",
    "pay = hours * rate\n",
    "print(\"Tổng tiền lương của bạn là:\", pay)"
   ]
  },
  {
   "cell_type": "code",
   "execution_count": null,
   "id": "c7f885a8",
   "metadata": {},
   "outputs": [
    {
     "name": "stdout",
     "output_type": "stream",
     "text": [
      "Với 100 năm, bạn có thể sống được 3153600000 giây.\n"
     ]
    }
   ],
   "source": [
    "## Write a script that prompts the user to enter number of years. Calculate the number of seconds a person can live. Assume a person can live hundred years\n",
    "\n",
    "num_of_years = int(input(\"Nhập số năm bất kỳ: \"))\n",
    "num_of_sec = num_of_years * 365 * 24 * 60 * 60\n",
    "print(f\"Với {num_of_years} năm, bạn có thể sống được {num_of_sec} giây.\")"
   ]
  }
 ],
 "metadata": {
  "kernelspec": {
   "display_name": "Python 3",
   "language": "python",
   "name": "python3"
  },
  "language_info": {
   "codemirror_mode": {
    "name": "ipython",
    "version": 3
   },
   "file_extension": ".py",
   "mimetype": "text/x-python",
   "name": "python",
   "nbconvert_exporter": "python",
   "pygments_lexer": "ipython3",
   "version": "3.11.9"
  }
 },
 "nbformat": 4,
 "nbformat_minor": 5
}
