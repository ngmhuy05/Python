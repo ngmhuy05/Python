{
 "cells": [
  {
   "cell_type": "markdown",
   "metadata": {},
   "source": [
    "### **Bài 1**"
   ]
  },
  {
   "cell_type": "code",
   "execution_count": 14,
   "metadata": {},
   "outputs": [
    {
     "data": {
      "text/plain": [
       "13"
      ]
     },
     "execution_count": 14,
     "metadata": {},
     "output_type": "execute_result"
    }
   ],
   "source": [
    "def string_length(s):\n",
    "    return len(s)\n",
    "\n",
    "string_length(\"Hello, World!\")"
   ]
  },
  {
   "cell_type": "markdown",
   "metadata": {},
   "source": [
    "### **Bài 2**"
   ]
  },
  {
   "cell_type": "code",
   "execution_count": 15,
   "metadata": {},
   "outputs": [
    {
     "data": {
      "text/plain": [
       "{'g': 2, 'o': 3, 'l': 1, 'e': 1, '.': 1, 'c': 1, 'm': 1}"
      ]
     },
     "execution_count": 15,
     "metadata": {},
     "output_type": "execute_result"
    }
   ],
   "source": [
    "def char_frequency(s):\n",
    "    freq = {}\n",
    "    for char in s:\n",
    "        freq[char] = freq.get(char, 0) + 1\n",
    "    return freq\n",
    "\n",
    "char_frequency(\"google.com\")"
   ]
  },
  {
   "cell_type": "markdown",
   "metadata": {},
   "source": [
    "### **Bài 3**"
   ]
  },
  {
   "cell_type": "code",
   "execution_count": 16,
   "metadata": {},
   "outputs": [
    {
     "name": "stdout",
     "output_type": "stream",
     "text": [
      "w3ce\n",
      "w3w3\n",
      "\n"
     ]
    }
   ],
   "source": [
    "def first_last_2_chars(s):\n",
    "    return s[:2] + s[-2:] if len(s) >= 2 else \"\"\n",
    "\n",
    "print(first_last_2_chars(\"w3resource\"))\n",
    "print(first_last_2_chars(\"w3\"))\n",
    "print(first_last_2_chars(\"w\"))"
   ]
  },
  {
   "cell_type": "markdown",
   "metadata": {},
   "source": [
    "### **Bài 4**"
   ]
  },
  {
   "cell_type": "code",
   "execution_count": 17,
   "metadata": {},
   "outputs": [
    {
     "data": {
      "text/plain": [
       "'resta$t'"
      ]
     },
     "execution_count": 17,
     "metadata": {},
     "output_type": "execute_result"
    }
   ],
   "source": [
    "def replace_char(s):\n",
    "    if not s:\n",
    "        return \"\"\n",
    "    first_char = s[0]\n",
    "    return first_char + s[1:].replace(first_char, \"$\")\n",
    "\n",
    "replace_char(\"restart\")"
   ]
  },
  {
   "cell_type": "markdown",
   "metadata": {},
   "source": [
    "### **Bài 5**"
   ]
  },
  {
   "cell_type": "code",
   "execution_count": 18,
   "metadata": {},
   "outputs": [
    {
     "data": {
      "text/plain": [
       "'xyc abz'"
      ]
     },
     "execution_count": 18,
     "metadata": {},
     "output_type": "execute_result"
    }
   ],
   "source": [
    "def swap_first_two_chars(s1, s2):\n",
    "    if len(s1) < 2 or len(s2) < 2:\n",
    "        return \"Both strings must have at least two characters.\"\n",
    "    \n",
    "    swapped_s1 = s2[:2] + s1[2:]\n",
    "    swapped_s2 = s1[:2] + s2[2:]\n",
    "    \n",
    "    return swapped_s1 + \" \" + swapped_s2\n",
    "\n",
    "swap_first_two_chars(\"abc\", \"xyz\")"
   ]
  },
  {
   "cell_type": "markdown",
   "metadata": {},
   "source": [
    "### **Bài 6**"
   ]
  },
  {
   "cell_type": "code",
   "execution_count": 1,
   "metadata": {},
   "outputs": [
    {
     "name": "stdout",
     "output_type": "stream",
     "text": [
      "abcing\n",
      "stringly\n",
      "go\n"
     ]
    }
   ],
   "source": [
    "def add_ing_or_ly(s):\n",
    "    if len(s) < 3:\n",
    "        return s\n",
    "    if s.endswith(\"ing\"):\n",
    "        return s + \"ly\"\n",
    "    return s + \"ing\"\n",
    "\n",
    "# Ví dụ\n",
    "print(add_ing_or_ly(\"abc\"))\n",
    "print(add_ing_or_ly(\"string\"))\n",
    "print(add_ing_or_ly(\"go\"))"
   ]
  },
  {
   "cell_type": "markdown",
   "metadata": {},
   "source": [
    "### **Bài 7**"
   ]
  },
  {
   "cell_type": "code",
   "execution_count": null,
   "metadata": {},
   "outputs": [
    {
     "name": "stdout",
     "output_type": "stream",
     "text": [
      "The lyrics is good!\n",
      "The lyrics is poor!\n"
     ]
    }
   ],
   "source": [
    "def replace_not_poor(s):\n",
    "    not_index = s.find(\"not\")\n",
    "    poor_index = s.find(\"poor\")\n",
    "\n",
    "    if not_index != -1 and poor_index != -1 and not_index < poor_index:\n",
    "        return s[:not_index] + \"good\" + s[poor_index + 4:]\n",
    "    return s\n",
    "\n",
    "print(replace_not_poor(\"The lyrics is not that poor!\"))\n",
    "print(replace_not_poor(\"The lyrics is poor!\"))"
   ]
  },
  {
   "cell_type": "markdown",
   "metadata": {},
   "source": [
    "### **Bài 8**"
   ]
  },
  {
   "cell_type": "code",
   "execution_count": 133,
   "metadata": {},
   "outputs": [
    {
     "name": "stdout",
     "output_type": "stream",
     "text": [
      "Longest word: Exercises\n",
      "Length of the longest word: 9\n"
     ]
    }
   ],
   "source": [
    "def longest_word(words):\n",
    "    longest = max(words, key=len)\n",
    "    return longest, len(longest)\n",
    "\n",
    "words_list = [\"Python\", \"Exercises\", \"Program\"]\n",
    "longest, length = longest_word(words_list)\n",
    "print(f\"Longest word: {longest}\")\n",
    "print(f\"Length of the longest word: {length}\")"
   ]
  },
  {
   "cell_type": "markdown",
   "metadata": {},
   "source": [
    "### **Bài 9**"
   ]
  },
  {
   "cell_type": "code",
   "execution_count": 8,
   "metadata": {},
   "outputs": [
    {
     "data": {
      "text/plain": [
       "'helo'"
      ]
     },
     "execution_count": 8,
     "metadata": {},
     "output_type": "execute_result"
    }
   ],
   "source": [
    "def remove_nth_char(s, n):\n",
    "    if n < 0 or n >= len(s):\n",
    "        return \"Index out of range\"\n",
    "    return s[:n] + s[n+1:]\n",
    "\n",
    "remove_nth_char(\"hello\", 2)"
   ]
  },
  {
   "cell_type": "markdown",
   "metadata": {},
   "source": [
    "### **Bài 10**"
   ]
  },
  {
   "cell_type": "code",
   "execution_count": null,
   "metadata": {},
   "outputs": [
    {
     "data": {
      "text/plain": [
       "'oellh'"
      ]
     },
     "execution_count": 9,
     "metadata": {},
     "output_type": "execute_result"
    }
   ],
   "source": [
    "def swap_first_last(s):\n",
    "    if len(s) < 2:\n",
    "        return s\n",
    "    return s[-1] + s[1:-1] + s[0]\n",
    "\n",
    "swap_first_last(\"hello\")"
   ]
  },
  {
   "cell_type": "markdown",
   "metadata": {},
   "source": [
    "### **Bài 11**"
   ]
  },
  {
   "cell_type": "code",
   "execution_count": 10,
   "metadata": {},
   "outputs": [
    {
     "data": {
      "text/plain": [
       "'aceg'"
      ]
     },
     "execution_count": 10,
     "metadata": {},
     "output_type": "execute_result"
    }
   ],
   "source": [
    "def remove_odd_index_chars(s):\n",
    "    return s[::2]\n",
    "\n",
    "remove_odd_index_chars(\"abcdefg\")"
   ]
  },
  {
   "cell_type": "markdown",
   "metadata": {},
   "source": [
    "### **Bài 12**"
   ]
  },
  {
   "cell_type": "code",
   "execution_count": 11,
   "metadata": {},
   "outputs": [
    {
     "data": {
      "text/plain": [
       "{'hello': 2, 'world': 1, 'python': 1}"
      ]
     },
     "execution_count": 11,
     "metadata": {},
     "output_type": "execute_result"
    }
   ],
   "source": [
    "def count_word_occurrences(sentence):\n",
    "    words = sentence.split()\n",
    "    word_count = {}\n",
    "    for word in words:\n",
    "        word_count[word] = word_count.get(word, 0) + 1\n",
    "    return word_count\n",
    "\n",
    "count_word_occurrences(\"hello world hello python\")"
   ]
  },
  {
   "cell_type": "markdown",
   "metadata": {},
   "source": [
    "### **Bài 13**"
   ]
  },
  {
   "cell_type": "code",
   "execution_count": null,
   "metadata": {},
   "outputs": [
    {
     "name": "stdout",
     "output_type": "stream",
     "text": [
      "Input: xin CHào Các BẠn\n",
      "Chữ hoa: XIN CHÀO CÁC BẠN\n",
      "Chữ thường: xin chào các bạn\n"
     ]
    }
   ],
   "source": [
    "user_input = input()\n",
    "\n",
    "print(\"Input:\", user_input)\n",
    "print(\"Chữ hoa:\", user_input.upper())\n",
    "print(\"Chữ thường:\", user_input.lower())"
   ]
  },
  {
   "cell_type": "markdown",
   "metadata": {},
   "source": [
    "### **Bài 14**"
   ]
  },
  {
   "cell_type": "code",
   "execution_count": null,
   "metadata": {},
   "outputs": [
    {
     "data": {
      "text/plain": [
       "' black, green, red, white,red'"
      ]
     },
     "execution_count": 13,
     "metadata": {},
     "output_type": "execute_result"
    }
   ],
   "source": [
    "def distinct_sorted_words(input_str):\n",
    "    words = input_str.split(',')\n",
    "    distinct_words = sorted(set(words))\n",
    "    return ','.join(distinct_words)\n",
    "\n",
    "distinct_sorted_words('red, white, black, red, green, black')"
   ]
  },
  {
   "cell_type": "markdown",
   "metadata": {},
   "source": [
    "### **Bài 15**"
   ]
  },
  {
   "cell_type": "code",
   "execution_count": null,
   "metadata": {},
   "outputs": [
    {
     "data": {
      "text/plain": [
       "'<b>Python Tutorial</b>'"
      ]
     },
     "execution_count": 14,
     "metadata": {},
     "output_type": "execute_result"
    }
   ],
   "source": [
    "def add_tags(tag, word):\n",
    "    return f\"<{tag}>{word}</{tag}>\"\n",
    "\n",
    "add_tags('i', 'Python')\n",
    "add_tags('b', 'Python Tutorial')"
   ]
  },
  {
   "cell_type": "markdown",
   "metadata": {},
   "source": [
    "### **Bài 16**"
   ]
  },
  {
   "cell_type": "code",
   "execution_count": 17,
   "metadata": {},
   "outputs": [
    {
     "data": {
      "text/plain": [
       "'{{PHP}}'"
      ]
     },
     "execution_count": 17,
     "metadata": {},
     "output_type": "execute_result"
    }
   ],
   "source": [
    "def insert_string_middle(s, word):\n",
    "    middle = len(s) // 2\n",
    "    return s[:middle] + word + s[middle:]\n",
    "\n",
    "insert_string_middle('[[]]<<>>', ' Python')\n",
    "insert_string_middle('{{}}', 'PHP')"
   ]
  },
  {
   "cell_type": "markdown",
   "metadata": {},
   "source": [
    "### **Bài 17**"
   ]
  },
  {
   "cell_type": "code",
   "execution_count": 16,
   "metadata": {},
   "outputs": [
    {
     "data": {
      "text/plain": [
       "'eseseses'"
      ]
     },
     "execution_count": 16,
     "metadata": {},
     "output_type": "execute_result"
    }
   ],
   "source": [
    "def insert_end(s):\n",
    "    if len(s) < 2:\n",
    "        return s\n",
    "    return s[-2:] * 4\n",
    "\n",
    "insert_end('Python')\n",
    "insert_end('Exercises')"
   ]
  },
  {
   "cell_type": "markdown",
   "metadata": {},
   "source": [
    "### **Bài 18**"
   ]
  },
  {
   "cell_type": "code",
   "execution_count": 32,
   "metadata": {},
   "outputs": [
    {
     "name": "stdout",
     "output_type": "stream",
     "text": [
      "ipy\n",
      "Pyt\n"
     ]
    }
   ],
   "source": [
    "def first_three(s):\n",
    "    if len(s) >= 3:\n",
    "        return s[:3]\n",
    "    else:\n",
    "        return s\n",
    "\n",
    "print(first_three('ipy'))\n",
    "print(first_three('Python'))"
   ]
  },
  {
   "cell_type": "markdown",
   "metadata": {},
   "source": [
    "### **Bài 19**"
   ]
  },
  {
   "cell_type": "code",
   "execution_count": 38,
   "metadata": {},
   "outputs": [
    {
     "name": "stdout",
     "output_type": "stream",
     "text": [
      "https:\n",
      "https:\n"
     ]
    }
   ],
   "source": [
    "def get_part_before_char(s, char):\n",
    "    position = s.find(char)\n",
    "\n",
    "    if position == -1:\n",
    "        return s\n",
    "    \n",
    "    return s[:position]\n",
    "\n",
    "print(get_part_before_char(\"https://www.w3resource.com/python-exercises\", \"/\"))\n",
    "print(get_part_before_char(\"https://www.w3resource.com/python\", \"/\"))"
   ]
  },
  {
   "cell_type": "markdown",
   "metadata": {},
   "source": [
    "### **Bài 20**"
   ]
  },
  {
   "cell_type": "code",
   "execution_count": null,
   "metadata": {},
   "outputs": [
    {
     "name": "stdout",
     "output_type": "stream",
     "text": [
      "dcba\n",
      "abc\n"
     ]
    }
   ],
   "source": [
    "def reverse_if_multi_of_4(s):\n",
    "    if len(s) % 4 == 0:\n",
    "        return s[::-1]\n",
    "    else:\n",
    "        return s\n",
    "\n",
    "# Ví dụ\n",
    "print(reverse_if_multi_of_4(\"abcd\"))\n",
    "print(reverse_if_multi_of_4(\"abc\"))"
   ]
  },
  {
   "cell_type": "markdown",
   "metadata": {},
   "source": [
    "### **Bài 21**"
   ]
  },
  {
   "cell_type": "code",
   "execution_count": 43,
   "metadata": {},
   "outputs": [
    {
     "name": "stdout",
     "output_type": "stream",
     "text": [
      "PYTHON\n",
      "python\n"
     ]
    }
   ],
   "source": [
    "def convert_to_upper(s):\n",
    "    if sum(1 for char in s[:4] if char.isupper()) >= 2:\n",
    "        return s.upper()\n",
    "    return s\n",
    "\n",
    "print(convert_to_upper(\"PyThon\"))\n",
    "print(convert_to_upper(\"python\"))"
   ]
  },
  {
   "cell_type": "markdown",
   "metadata": {},
   "source": [
    "### **Bài 22**"
   ]
  },
  {
   "cell_type": "code",
   "execution_count": 131,
   "metadata": {},
   "outputs": [
    {
     "name": "stdout",
     "output_type": "stream",
     "text": [
      "hnopty\n",
      " HWdellloor\n"
     ]
    }
   ],
   "source": [
    "def sort_string(s):\n",
    "    return ''.join(sorted(s))\n",
    "\n",
    "print(sort_string(\"python\"))\n",
    "print(sort_string(\"Hello World\"))"
   ]
  },
  {
   "cell_type": "markdown",
   "metadata": {},
   "source": [
    "### **Bài 23**"
   ]
  },
  {
   "cell_type": "code",
   "execution_count": 61,
   "metadata": {},
   "outputs": [
    {
     "name": "stdout",
     "output_type": "stream",
     "text": [
      "Chuỗi gốc:\n",
      "Dòng 1\n",
      "Dòng 2\n",
      "Dòng 3\n",
      "\n",
      "Chuỗi sau khi loại bỏ ký tự xuống dòng:\n",
      "Dòng 1Dòng 2Dòng 3\n"
     ]
    }
   ],
   "source": [
    "def remove_newline(s):\n",
    "    return s.replace('\\n', '')\n",
    "\n",
    "sample = \"Dòng 1\\nDòng 2\\nDòng 3\"\n",
    "print(\"Chuỗi gốc:\")\n",
    "print(sample)\n",
    "print(\"\\nChuỗi sau khi loại bỏ ký tự xuống dòng:\")\n",
    "print(remove_newline(sample))"
   ]
  },
  {
   "cell_type": "markdown",
   "metadata": {},
   "source": [
    "### **Bài 24**"
   ]
  },
  {
   "cell_type": "code",
   "execution_count": 53,
   "metadata": {},
   "outputs": [
    {
     "name": "stdout",
     "output_type": "stream",
     "text": [
      "True\n",
      "False\n",
      "True\n",
      "False\n",
      "True\n"
     ]
    }
   ],
   "source": [
    "def starts_with(s, check):\n",
    "    return s[:len(check)] == check\n",
    "\n",
    "# Ví dụ\n",
    "print(starts_with(\"Hello\", \"He\"))\n",
    "print(starts_with(\"Hello\", \"Ho\"))\n",
    "print(starts_with(\"Python is great\", \"Python\"))\n",
    "print(starts_with(\"Python is great\", \"Java\"))\n",
    "print(starts_with(\"https://www.example.com\", \"https://\"))"
   ]
  },
  {
   "cell_type": "markdown",
   "metadata": {},
   "source": [
    "### **Bài 25**"
   ]
  },
  {
   "cell_type": "code",
   "execution_count": null,
   "metadata": {},
   "outputs": [
    {
     "name": "stdout",
     "output_type": "stream",
     "text": [
      "Văn bản gốc: Xin Chào Các Bạn!\n",
      "Văn bản sau khi mã hóa (dịch 3 vị trí): Alq Fkar Fbf Ezq!\n"
     ]
    }
   ],
   "source": [
    "def caesar_cipher(s, shift):\n",
    "    result = []\n",
    "    for char in s:\n",
    "        if char.isalpha():\n",
    "            ascii_base = 65 if char.isupper() else 97\n",
    "            result.append(chr((ord(char) - ascii_base + shift) % 26 + ascii_base))\n",
    "        else:\n",
    "            result.append(char)\n",
    "    return ''.join(result)\n",
    "\n",
    "sample = \"Xin Chào Các Bạn!\"\n",
    "shift = 3\n",
    "cipher_text = caesar_cipher(sample, shift)\n",
    "print(f\"Văn bản gốc: {sample}\")\n",
    "print(f\"Văn bản sau khi mã hóa (dịch {shift} vị trí): {cipher_text}\")"
   ]
  },
  {
   "cell_type": "markdown",
   "metadata": {},
   "source": [
    "### **Bài 26**"
   ]
  },
  {
   "cell_type": "code",
   "execution_count": 64,
   "metadata": {},
   "outputs": [
    {
     "name": "stdout",
     "output_type": "stream",
     "text": [
      "Python là một ngôn ngữ lập trình thông dịch, hướng\n",
      "đối tượng, đa mục đích được tạo ra bởi Guido van\n",
      "Rossum. Python có cú pháp rõ ràng, linh hoạt, dễ\n",
      "đọc, dễ học và được sử dụng rộng rãi trong nhiều\n",
      "lĩnh vực khác nhau như phát triển web, phân tích\n",
      "dữ liệu, trí tuệ nhân tạo, và khoa học dữ liệu.\n"
     ]
    }
   ],
   "source": [
    "import textwrap\n",
    "\n",
    "text = \"\"\"Python là một ngôn ngữ lập trình thông dịch, hướng đối tượng, đa mục đích được tạo ra bởi Guido van Rossum. Python có cú pháp rõ ràng, linh hoạt, dễ đọc, dễ học và được sử dụng rộng rãi trong nhiều lĩnh vực khác nhau như phát triển web, phân tích dữ liệu, trí tuệ nhân tạo, và khoa học dữ liệu.\"\"\"\n",
    "\n",
    "formatted_text = textwrap.fill(text, width=50)\n",
    "\n",
    "print(formatted_text)"
   ]
  },
  {
   "cell_type": "markdown",
   "metadata": {},
   "source": [
    "### **Bài 27**"
   ]
  },
  {
   "cell_type": "code",
   "execution_count": null,
   "metadata": {},
   "outputs": [
    {
     "name": "stdout",
     "output_type": "stream",
     "text": [
      "Văn bản gốc:\n",
      "    Dòng 1.\n",
      "        Dòng 2.\n",
      "    Dòng 3.\n",
      "Dòng 4.\n",
      "\n",
      "Văn bản sau khi xóa thụt đầu dòng:\n",
      "Dòng 1.\n",
      "Dòng 2.\n",
      "Dòng 3.\n",
      "Dòng 4.\n"
     ]
    }
   ],
   "source": [
    "def remove_indentation(text):\n",
    "    lines = text.splitlines()\n",
    "    stripped_lines = [line.lstrip() for line in lines]\n",
    "    return '\\n'.join(stripped_lines)\n",
    "\n",
    "sample = \"\"\"    Dòng 1\n",
    "        Dòng 2\n",
    "    Dòng 3\n",
    "Dòng 4\"\"\"\n",
    "\n",
    "print(\"Văn bản gốc:\")\n",
    "print(sample)\n",
    "print(\"\\nVăn bản sau khi xóa thụt đầu dòng:\")\n",
    "print(remove_indentation(sample))"
   ]
  },
  {
   "cell_type": "markdown",
   "metadata": {},
   "source": [
    "### **Bài 28**"
   ]
  },
  {
   "cell_type": "code",
   "execution_count": 71,
   "metadata": {},
   "outputs": [
    {
     "name": "stdout",
     "output_type": "stream",
     "text": [
      "Văn bản gốc:\n",
      "Dòng 1\n",
      "Dòng 2\n",
      "Dòng 3\n",
      "Dòng 4\n",
      "\n",
      "Văn bản sau khi thêm tiền tố:\n",
      ">> Dòng 1\n",
      ">> Dòng 2\n",
      ">> Dòng 3\n",
      ">> Dòng 4\n"
     ]
    }
   ],
   "source": [
    "def add_prefix_to_lines(text, prefix):\n",
    "    lines = text.splitlines()\n",
    "    prefixed_lines = [prefix + line for line in lines]\n",
    "    return '\\n'.join(prefixed_lines)\n",
    "\n",
    "sample = \"\"\"Dòng 1\n",
    "Dòng 2\n",
    "Dòng 3\n",
    "Dòng 4\"\"\"\n",
    "\n",
    "prefix = \">> \"\n",
    "print(\"Văn bản gốc:\")\n",
    "print(sample)\n",
    "print(\"\\nVăn bản sau khi thêm tiền tố:\")\n",
    "print(add_prefix_to_lines(sample, prefix))"
   ]
  },
  {
   "cell_type": "markdown",
   "metadata": {},
   "source": [
    "### **Bài 29**"
   ]
  },
  {
   "cell_type": "code",
   "execution_count": 130,
   "metadata": {},
   "outputs": [
    {
     "name": "stdout",
     "output_type": "stream",
     "text": [
      "    Dòng 1\n",
      "Dòng 2\n",
      "Dòng 3\n",
      "Dòng 4\n"
     ]
    }
   ],
   "source": [
    "def indent_first_line(text, indent=4):\n",
    "    lines = text.split(\"\\n\")  # Tách thành từng dòng nếu có nhiều đoạn\n",
    "    if lines:\n",
    "        lines[0] = \" \" * indent + lines[0]  # Thêm khoảng trắng vào dòng đầu tiên\n",
    "    return \"\\n\".join(lines)\n",
    "\n",
    "# Văn bản mẫu\n",
    "text = \"\"\"Dòng 1\n",
    "Dòng 2\n",
    "Dòng 3\n",
    "Dòng 4\"\"\"\n",
    "\n",
    "formatted_text = indent_first_line(text, 4)\n",
    "print(formatted_text)"
   ]
  },
  {
   "cell_type": "markdown",
   "metadata": {},
   "source": [
    "### **Bài 30**"
   ]
  },
  {
   "cell_type": "code",
   "execution_count": 80,
   "metadata": {},
   "outputs": [
    {
     "name": "stdout",
     "output_type": "stream",
     "text": [
      "1.24\n"
     ]
    }
   ],
   "source": [
    "num = 1.235346\n",
    "print(f\"{num:.2f}\")"
   ]
  },
  {
   "cell_type": "markdown",
   "metadata": {},
   "source": [
    "### **Bài 31**"
   ]
  },
  {
   "cell_type": "code",
   "execution_count": 81,
   "metadata": {},
   "outputs": [
    {
     "name": "stdout",
     "output_type": "stream",
     "text": [
      "+3.14\n",
      "-7.50\n",
      "+0.00\n",
      "+12.35\n"
     ]
    }
   ],
   "source": [
    "numbers = [3.14159, -7.5, 0, 12.3456]\n",
    "\n",
    "for num in numbers:\n",
    "    print(\"{:+.2f}\".format(num))"
   ]
  },
  {
   "cell_type": "markdown",
   "metadata": {},
   "source": [
    "### **Bài 32**"
   ]
  },
  {
   "cell_type": "code",
   "execution_count": 89,
   "metadata": {},
   "outputs": [
    {
     "name": "stdout",
     "output_type": "stream",
     "text": [
      "+3\n",
      "-8\n",
      "+0\n",
      "+12\n"
     ]
    }
   ],
   "source": [
    "numbers = [3.14159, -7.5, 0, 12.3456]\n",
    "\n",
    "for num in numbers:\n",
    "    print(\"{:+.0f}\".format(num))"
   ]
  },
  {
   "cell_type": "markdown",
   "metadata": {},
   "source": [
    "### **Bài 33**"
   ]
  },
  {
   "cell_type": "code",
   "execution_count": 85,
   "metadata": {},
   "outputs": [
    {
     "name": "stdout",
     "output_type": "stream",
     "text": [
      "00005\n",
      "00023\n",
      "00456\n",
      "06789\n",
      "55555\n"
     ]
    }
   ],
   "source": [
    "numbers = [5, 23, 456, 6789, 55555]\n",
    "\n",
    "for num in numbers:\n",
    "    print(\"{:05d}\".format(num))"
   ]
  },
  {
   "cell_type": "markdown",
   "metadata": {},
   "source": [
    "### **Bài 34**"
   ]
  },
  {
   "cell_type": "code",
   "execution_count": 88,
   "metadata": {},
   "outputs": [
    {
     "name": "stdout",
     "output_type": "stream",
     "text": [
      "5***\n",
      "23**\n",
      "456*\n",
      "6789\n",
      "55555\n"
     ]
    }
   ],
   "source": [
    "numbers = [5, 23, 456, 6789, 55555]\n",
    "\n",
    "for num in numbers:\n",
    "    print(\"{:*<4d}\".format(num))"
   ]
  },
  {
   "cell_type": "markdown",
   "metadata": {},
   "source": [
    "### **Bài 35**"
   ]
  },
  {
   "cell_type": "code",
   "execution_count": 90,
   "metadata": {},
   "outputs": [
    {
     "name": "stdout",
     "output_type": "stream",
     "text": [
      "1,234,567,890\n"
     ]
    }
   ],
   "source": [
    "num = 1234567890\n",
    "print(\"{:,}\".format(num))"
   ]
  },
  {
   "cell_type": "markdown",
   "metadata": {},
   "source": [
    "### **Bài 36**"
   ]
  },
  {
   "cell_type": "code",
   "execution_count": null,
   "metadata": {},
   "outputs": [
    {
     "name": "stdout",
     "output_type": "stream",
     "text": [
      "87.50%\n"
     ]
    }
   ],
   "source": [
    "num = 0.875\n",
    "print(\"{:.2%}\".format(num))  # Kết quả: 87.50%"
   ]
  },
  {
   "cell_type": "markdown",
   "metadata": {},
   "source": [
    "### **Bài 37**"
   ]
  },
  {
   "cell_type": "code",
   "execution_count": 92,
   "metadata": {},
   "outputs": [
    {
     "name": "stdout",
     "output_type": "stream",
     "text": [
      "Hi        \n",
      "    Hi    \n",
      "        Hi\n"
     ]
    }
   ],
   "source": [
    "text = \"Hi\"\n",
    "print(\"{:<10}\".format(text))\n",
    "print(\"{:^10}\".format(text))\n",
    "print(\"{:>10}\".format(text))"
   ]
  },
  {
   "cell_type": "markdown",
   "metadata": {},
   "source": [
    "### **Bài 38**"
   ]
  },
  {
   "cell_type": "code",
   "execution_count": 95,
   "metadata": {},
   "outputs": [
    {
     "name": "stdout",
     "output_type": "stream",
     "text": [
      "2\n"
     ]
    }
   ],
   "source": [
    "text = \"hello world, hello python\"\n",
    "substring = \"hello\"\n",
    "print(text.count(substring))"
   ]
  },
  {
   "cell_type": "markdown",
   "metadata": {},
   "source": [
    "### **Bài 39**"
   ]
  },
  {
   "cell_type": "code",
   "execution_count": 96,
   "metadata": {},
   "outputs": [
    {
     "name": "stdout",
     "output_type": "stream",
     "text": [
      "nohtyP\n"
     ]
    }
   ],
   "source": [
    "text = \"Python\"\n",
    "print(text[::-1])"
   ]
  },
  {
   "cell_type": "markdown",
   "metadata": {},
   "source": [
    "### **Bài 40**"
   ]
  },
  {
   "cell_type": "code",
   "execution_count": null,
   "metadata": {},
   "outputs": [],
   "source": [
    "text = \"Python is awesome\"\n",
    "reversed_words = \" \".join(text.split()[::-1])\n",
    "print(reversed_words)"
   ]
  },
  {
   "cell_type": "markdown",
   "metadata": {},
   "source": [
    "### **Bài 41**"
   ]
  },
  {
   "cell_type": "code",
   "execution_count": null,
   "metadata": {},
   "outputs": [
    {
     "name": "stdout",
     "output_type": "stream",
     "text": [
      "Kết quả:  wrd\n"
     ]
    }
   ],
   "source": [
    "def strip_characters(text, chars_to_remove):\n",
    "    result = \"\"\n",
    "    for ch in text:\n",
    "        if ch not in chars_to_remove:\n",
    "            result += ch\n",
    "    return result\n",
    "\n",
    "original = \"hello world\"\n",
    "chars = \"helo\"\n",
    "\n",
    "result = strip_characters(original, chars)\n",
    "print(\"Kết quả:\", result)"
   ]
  },
  {
   "cell_type": "markdown",
   "metadata": {},
   "source": [
    "### **Bài 42**"
   ]
  },
  {
   "cell_type": "code",
   "execution_count": 102,
   "metadata": {},
   "outputs": [
    {
     "name": "stdout",
     "output_type": "stream",
     "text": [
      "\n",
      "Ví dụ: thequickbrownfoxjumpsoverthelazydog\n",
      "Những kí tự lặp lại:\n",
      "o 4\n",
      "e 3\n",
      "t 2\n",
      "h 2\n",
      "u 2\n",
      "r 2\n"
     ]
    }
   ],
   "source": [
    "def count_repeated_chars(string):\n",
    "    char_count = {}\n",
    "    for char in string.lower():\n",
    "        if char in char_count:\n",
    "            char_count[char] += 1\n",
    "        else:\n",
    "            char_count[char] = 1\n",
    "    repeated_chars = {char: count for char, count in char_count.items() if count > 1}\n",
    "    \n",
    "    sorted_chars = sorted(repeated_chars.items(), key=lambda x: x[1], reverse=True)\n",
    "    \n",
    "    return sorted_chars\n",
    "\n",
    "sample = 'thequickbrownfoxjumpsoverthelazydog'\n",
    "print(\"\\nVí dụ:\", sample)\n",
    "print(\"Những kí tự lặp lại:\")\n",
    "repeated_chars = count_repeated_chars(sample)\n",
    "for char, count in repeated_chars:\n",
    "    print(f\"{char} {count}\")"
   ]
  },
  {
   "cell_type": "markdown",
   "metadata": {},
   "source": [
    "### **Bài 43**"
   ]
  },
  {
   "cell_type": "code",
   "execution_count": 104,
   "metadata": {},
   "outputs": [
    {
     "name": "stdout",
     "output_type": "stream",
     "text": [
      "The area of the rectangle is 1219.00cm2\n",
      "The volume of the cylinder is 2387.610cm3\n"
     ]
    }
   ],
   "source": [
    "import math\n",
    "\n",
    "length = 23\n",
    "width = 53\n",
    "area = length * width\n",
    "\n",
    "radius = 10\n",
    "height = 7.6\n",
    "volume = math.pi * radius**2 * height\n",
    "\n",
    "print(f\"The area of the rectangle is {area:.2f}cm2\")\n",
    "print(f\"The volume of the cylinder is {volume:.3f}cm3\")"
   ]
  },
  {
   "cell_type": "markdown",
   "metadata": {},
   "source": [
    "### **Bài 44**"
   ]
  },
  {
   "cell_type": "code",
   "execution_count": 107,
   "metadata": {},
   "outputs": [
    {
     "name": "stdout",
     "output_type": "stream",
     "text": [
      "Ký tự w nằm ở vị trí 1\n",
      "Ký tự 3 nằm ở vị trí 2\n",
      "Ký tự r nằm ở vị trí 3\n",
      "Ký tự e nằm ở vị trí 4\n",
      "Ký tự s nằm ở vị trí 5\n",
      "Ký tự o nằm ở vị trí 6\n",
      "Ký tự u nằm ở vị trí 7\n",
      "Ký tự r nằm ở vị trí 8\n",
      "Ký tự c nằm ở vị trí 9\n",
      "Ký tự e nằm ở vị trí 10\n"
     ]
    }
   ],
   "source": [
    "sample = \"w3resource\"\n",
    "\n",
    "for index, char in enumerate(sample):\n",
    "    print(f\"Ký tự {char} nằm ở vị trí {index+1}\")"
   ]
  },
  {
   "cell_type": "markdown",
   "metadata": {},
   "source": [
    "### **Bài 45**"
   ]
  },
  {
   "cell_type": "code",
   "execution_count": null,
   "metadata": {},
   "outputs": [
    {
     "name": "stdout",
     "output_type": "stream",
     "text": [
      "Contains all letters of the alphabet? True\n"
     ]
    }
   ],
   "source": [
    "def is_contains_all(text):\n",
    "    alphabet = set(\"abcdefghijklmnopqrstuvwxyz\")\n",
    "    return alphabet <= set(text.lower())\n",
    "\n",
    "text = \"The quick brown fox jumps over the lazy dog\"\n",
    "print(\"Contains all letters of the alphabet?\" , is_contains_all(text))"
   ]
  },
  {
   "cell_type": "markdown",
   "metadata": {},
   "source": [
    "### **Bài 46**"
   ]
  },
  {
   "cell_type": "code",
   "execution_count": 123,
   "metadata": {},
   "outputs": [
    {
     "name": "stdout",
     "output_type": "stream",
     "text": [
      "['The', 'quick', 'brown', 'fox', 'jumps', 'over', 'the', 'lazy', 'dog.']\n"
     ]
    }
   ],
   "source": [
    "text = \"The quick brown fox jumps over the lazy dog.\"\n",
    "word_list = text.split()\n",
    "\n",
    "print(word_list)"
   ]
  },
  {
   "cell_type": "markdown",
   "metadata": {},
   "source": [
    "### **Bài 47**"
   ]
  },
  {
   "cell_type": "code",
   "execution_count": 125,
   "metadata": {},
   "outputs": [
    {
     "name": "stdout",
     "output_type": "stream",
     "text": [
      "helloPythonWORLD\n"
     ]
    }
   ],
   "source": [
    "def lower_first_n_char(text, n):\n",
    "    return text[:n].lower() + text[n:]\n",
    "\n",
    "sample = \"HELLOPythonWORLD\"\n",
    "n = 5\n",
    "print(lower_first_n_char(sample, n))"
   ]
  },
  {
   "cell_type": "markdown",
   "metadata": {},
   "source": [
    "### **Bài 48**"
   ]
  },
  {
   "cell_type": "code",
   "execution_count": 127,
   "metadata": {},
   "outputs": [
    {
     "name": "stdout",
     "output_type": "stream",
     "text": [
      "32,054.23\n"
     ]
    }
   ],
   "source": [
    "def swap_commas_dots(text):\n",
    "    return text.replace('.', '#').replace(',', '.').replace('#', ',')\n",
    "\n",
    "sample = \"32.054,23\"\n",
    "print(swap_commas_dots(sample))  # Output: 32,054.23"
   ]
  },
  {
   "cell_type": "markdown",
   "metadata": {},
   "source": [
    "### **Bài 49**"
   ]
  },
  {
   "cell_type": "code",
   "execution_count": null,
   "metadata": {},
   "outputs": [
    {
     "name": "stdout",
     "output_type": "stream",
     "text": [
      "Vowels found: ['e', 'u', 'i', 'o', 'o', 'u', 'o', 'e', 'e', 'a', 'o']\n",
      "Total vowels: 11\n"
     ]
    }
   ],
   "source": [
    "def count_vowel(text):\n",
    "    vowel = \"aeiouAEIOU\"\n",
    "    found = [char for char in text if char in vowel]\n",
    "    print(\"Vowels found:\", found)\n",
    "    print(\"Total vowels:\", len(found))\n",
    "\n",
    "sample = \"The quick brown fox jumps over the lazy dog\"\n",
    "count_vowel(sample)"
   ]
  },
  {
   "cell_type": "markdown",
   "metadata": {},
   "source": [
    "### **Bài 50**"
   ]
  },
  {
   "cell_type": "code",
   "execution_count": null,
   "metadata": {},
   "outputs": [
    {
     "name": "stdout",
     "output_type": "stream",
     "text": [
      "['a/b/c', 'd']\n"
     ]
    }
   ],
   "source": [
    "def split_last(text, delimiter):\n",
    "    return text.rsplit(delimiter, 1)\n",
    "\n",
    "sample = \"a/b/c/d\"\n",
    "print(split_last(sample, \"/\"))  # Output: ['a/b/c', 'd']"
   ]
  }
 ],
 "metadata": {
  "kernelspec": {
   "display_name": "Python 3",
   "language": "python",
   "name": "python3"
  },
  "language_info": {
   "codemirror_mode": {
    "name": "ipython",
    "version": 3
   },
   "file_extension": ".py",
   "mimetype": "text/x-python",
   "name": "python",
   "nbconvert_exporter": "python",
   "pygments_lexer": "ipython3",
   "version": "3.11.9"
  }
 },
 "nbformat": 4,
 "nbformat_minor": 2
}
